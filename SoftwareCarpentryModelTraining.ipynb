{
  "cells": [
    {
      "cell_type": "markdown",
      "metadata": {
        "colab_type": "text",
        "id": "view-in-github"
      },
      "source": [
        "<a href=\"https://colab.research.google.com/github/yww2316/SoftwareCarpentryFinalProject/blob/main/SoftwareCarpentryModelTraining.ipynb\" target=\"_parent\"><img src=\"https://colab.research.google.com/assets/colab-badge.svg\" alt=\"Open In Colab\"/></a>"
      ]
    },
    {
      "cell_type": "markdown",
      "metadata": {
        "id": "uvTQSRO5PZZ0"
      },
      "source": [
        "# Image Classification of Normal and Defective Bottles"
      ]
    },
    {
      "cell_type": "markdown",
      "metadata": {
        "id": "jreJ6uoXPZZ3"
      },
      "source": [
        "This jupyter notebook allows for training of a machine learning model using VGG16 to detect whether a given picture or video is of a normal or defective McCormick bottle. The current dataset includes McCormick and other brand's spice containers of all different shapes and sizes. After the model is trained, several models are saved. The models includes the final model made, the model with the best validation accuracy, and the model with the best validation loss. These three models are then measured with numerous metrics, namely a ROC curve, a precision-recall curve, and a confusion matrix to measure the proficiency of the model. The ROC curve is then used to generate a threshold by which model.predict() is measured against to give a more accurate result. Afterwards, the models are tested against test data to see the actual accuracy of the models against images the model was not trained against. At the very end, only the final model is used to do prediction on a saved video."
      ]
    },
    {
      "cell_type": "markdown",
      "metadata": {
        "id": "ycVh0kUNPZZ3"
      },
      "source": [
        "## Import Dependencies"
      ]
    },
    {
      "cell_type": "markdown",
      "metadata": {
        "id": "7ZxdPnugPZZ3"
      },
      "source": [
        "The cell below is used to import all the necessary libraries and functions, notably keras for building the model, matplotlib to display data, and cv2 with related dependencies for video processing."
      ]
    },
    {
      "cell_type": "code",
      "execution_count": 1,
      "metadata": {
        "colab": {
          "base_uri": "https://localhost:8080/"
        },
        "id": "daCOOYACJP3f",
        "outputId": "3424585b-2fd5-44e8-d90a-f496e0f7aea2"
      },
      "outputs": [],
      "source": [
        "# import necessary libraries and functions\n",
        "import numpy as np\n",
        "import pandas as pd\n",
        "import matplotlib.pyplot as plt\n",
        "import os\n",
        "import csv\n",
        "from matplotlib import pyplot\n",
        "%matplotlib inline \n",
        "\n",
        "#Allow matplotlib plots to be saved within the notebook after execution of the program.\n",
        "\n",
        "#Libraries for building and training the model\n",
        "from keras.models import Sequential\n",
        "\n",
        "import tensorflow as tf\n",
        "\n",
        "from keras.layers import Flatten\n",
        "from keras.callbacks import EarlyStopping\n",
        "from keras.callbacks import ModelCheckpoint\n",
        "from keras.models import load_model\n",
        "from keras.layers import Conv2D, MaxPool2D , Flatten\n",
        "from keras.preprocessing.image import ImageDataGenerator\n",
        "from keras.models import load_model\n",
        "from keras.preprocessing import image\n",
        "import random\n",
        "\n",
        "# Data Visualiziation and Video Processing\n",
        "import cv2\n",
        "import math\n",
        "import random\n",
        "import tensorflow as tf\n",
        "from moviepy.editor import *\n",
        "from collections import deque\n",
        "\n",
        "\n",
        "from tensorflow.keras.layers import *\n",
        "from tensorflow.keras.models import Sequential\n",
        "from tensorflow.keras.callbacks import EarlyStopping"
      ]
    },
    {
      "cell_type": "markdown",
      "metadata": {
        "id": "j5WyCHnCPZZ5"
      },
      "source": [
        "## Set a seed"
      ]
    },
    {
      "cell_type": "markdown",
      "metadata": {
        "id": "_FuG3dQqPZZ5"
      },
      "source": [
        "Set a seed to ensure that if you rerun this program that the results are replicated due to the stochastic nature of training models."
      ]
    },
    {
      "cell_type": "code",
      "execution_count": null,
      "metadata": {
        "id": "p6ZzONShJP3g"
      },
      "outputs": [],
      "source": [
        "# define a set \"random\" number generator and set it\n",
        "seed_constant = 42\n",
        "np.random.seed(seed_constant)\n",
        "random.seed(seed_constant)\n",
        "tf.random.set_seed(seed_constant)"
      ]
    },
    {
      "cell_type": "markdown",
      "metadata": {
        "id": "M9bmOvU7PZZ6"
      },
      "source": [
        "## Set a base directory"
      ]
    },
    {
      "cell_type": "markdown",
      "metadata": {
        "id": "mQG4yi_oPZZ6"
      },
      "source": [
        "Define a directory in which all the following directory paths will reference."
      ]
    },
    {
      "cell_type": "code",
      "execution_count": null,
      "metadata": {
        "id": "kaIsuXRQPZZ7"
      },
      "outputs": [],
      "source": [
        "base=\"/content/drive/MyDrive/Colab Notebooks/\""
      ]
    },
    {
      "cell_type": "markdown",
      "metadata": {
        "id": "3ahSgsljPZZ7"
      },
      "source": [
        "## Flow pictures into a usable dataframe"
      ]
    },
    {
      "cell_type": "markdown",
      "metadata": {
        "id": "sXfF4kXBPZZ7"
      },
      "source": [
        "Specify what data augmentation to use, where the data is stored, and print the different properties of each of the subsets."
      ]
    },
    {
      "cell_type": "code",
      "execution_count": null,
      "metadata": {
        "colab": {
          "base_uri": "https://localhost:8080/"
        },
        "id": "ewMClQQINDyV",
        "outputId": "8593a430-6ce6-4785-95fa-761689614640"
      },
      "outputs": [
        {
          "name": "stdout",
          "output_type": "stream",
          "text": [
            "Found 315 images belonging to 2 classes.\n",
            "{'Damaged': 0, 'Nice': 1}\n",
            "dict_items([(0, 153), (1, 162)])\n",
            "{0: 1.0588235294117647, 1: 1.0}\n"
          ]
        }
      ],
      "source": [
        "#Define an ImageDataGenerator object and specify what parameters to randomize each new epoch. \n",
        "trdata = ImageDataGenerator(brightness_range=[0.5,1.5], #Lowers or increases brightness by up to 50%\n",
        "    shear_range=0.2,#shears the image up to 20%\n",
        "    zoom_range=0.2)#,zooms in or out up to 20%\n",
        "    #width_shift_range=0.2,#shift the width up to 20%\n",
        "    #height_shift_range=0.2,#shift the height up to 20%\n",
        "    #rotation_range=180,#Rotate the image up to 270 degrees\n",
        "    #horizontal_flip=True,#May flip the image horizontally\n",
        "    #vertical_flip=True)#May flip the image vertically\n",
        "    #validation_split=0.3) #Takes a third of all the data and sets it as the validiation data set\n",
        "\n",
        "#Take data from a directory, with the subdirectory folders corresponding to the different classes, and separate them into training data and validation data.\n",
        "traindata = trdata.flow_from_directory(directory=base+\"NewMcCormickBottles\",target_size=(256,256),shuffle=True) \n",
        "#Note that the target_size must be the same as the input_shape in the first layer of the model\n",
        "#testdata= trdata.flow_from_directory(directory=base+\"TrainingDataVideo\",target_size=(224,224),subset='validation')\n",
        "\n",
        "#Check to see what each class is referred to by index.\n",
        "print(traindata.class_indices)\n",
        "#print(testdata.class_indices)\n",
        "\n",
        "from collections import Counter\n",
        "#Check to see if the traindata and testdata are stratified or that they have equal proportions of the two classes.\n",
        "counter = Counter(traindata.classes)\n",
        "print(counter.items())                        \n",
        "max_val = float(max(counter.values()))       \n",
        "class_weights = {class_id : max_val/num_images for class_id, num_images in counter.items()}\n",
        "print(class_weights)\n",
        "#counter = Counter(testdata.classes)\n",
        "#print(counter.items())#This shows that the validation_split already stratifies the data so that the proportion of damaged to normal class is equal in both traindata and testdata."
      ]
    },
    {
      "cell_type": "markdown",
      "metadata": {
        "id": "k9CpWYsoPZZ9"
      },
      "source": [
        "Check to see how the data augmentation from ImageDataGenerator affects the data inputted into the model."
      ]
    },
    {
      "cell_type": "code",
      "execution_count": null,
      "metadata": {
        "id": "aEPjz0aSsMXY"
      },
      "outputs": [],
      "source": [
        "# generate samples and plot\n",
        "figure(figsize=(16, 12), dpi=80)\n",
        "for i in range(10):\n",
        "\t# define subplot\n",
        "\tpyplot.subplot(2,5,i+1)\n",
        "\t# generate batch of images\n",
        "\tbatch = traindata.next()\n",
        "\t# convert to unsigned integers for viewing\n",
        "\twow = batch[0].astype('uint8')\n",
        "\t# plot raw pixel data\n",
        "\tpyplot.imshow(wow[0])\n",
        "# show the figure\n",
        "pyplot.show()"
      ]
    },
    {
      "cell_type": "markdown",
      "metadata": {
        "id": "C7oNxT7JPZZ-"
      },
      "source": [
        "## Build the Model"
      ]
    },
    {
      "cell_type": "markdown",
      "metadata": {
        "id": "Ixpwe2sBPZZ-"
      },
      "source": [
        "Below is the manual implementation of the VGG16 functional model. Note that the units in the final layer must be equal to the number of classes we have. Since our two classes are Nice and Damaged, units=2 in the final layer."
      ]
    },
    {
      "cell_type": "code",
      "execution_count": null,
      "metadata": {
        "id": "ckdy6MrGJP3k"
      },
      "outputs": [],
      "source": [
        "model = Sequential()\n",
        "model.add(Conv2D(input_shape=(224,224,3),filters=64,kernel_size=(3,3),padding=\"same\", activation=\"relu\")) #target_size from the previous cell is equal to input_shape\n",
        "model.add(Conv2D(filters=64,kernel_size=(3,3),padding=\"same\", activation=\"relu\"))\n",
        "model.add(MaxPool2D(pool_size=(2,2),strides=(2,2)))\n",
        "model.add(Conv2D(filters=128, kernel_size=(3,3), padding=\"same\", activation=\"relu\"))\n",
        "model.add(Conv2D(filters=128, kernel_size=(3,3), padding=\"same\", activation=\"relu\"))\n",
        "model.add(MaxPool2D(pool_size=(2,2),strides=(2,2)))\n",
        "model.add(Conv2D(filters=256, kernel_size=(3,3), padding=\"same\", activation=\"relu\"))\n",
        "model.add(Conv2D(filters=256, kernel_size=(3,3), padding=\"same\", activation=\"relu\"))\n",
        "model.add(Conv2D(filters=256, kernel_size=(3,3), padding=\"same\", activation=\"relu\"))\n",
        "model.add(MaxPool2D(pool_size=(2,2),strides=(2,2)))\n",
        "model.add(Conv2D(filters=512, kernel_size=(3,3), padding=\"same\", activation=\"relu\"))\n",
        "model.add(Conv2D(filters=512, kernel_size=(3,3), padding=\"same\", activation=\"relu\"))\n",
        "model.add(Conv2D(filters=512, kernel_size=(3,3), padding=\"same\", activation=\"relu\"))\n",
        "model.add(MaxPool2D(pool_size=(2,2),strides=(2,2)))\n",
        "model.add(Conv2D(filters=512, kernel_size=(3,3), padding=\"same\", activation=\"relu\"))\n",
        "model.add(Conv2D(filters=512, kernel_size=(3,3), padding=\"same\", activation=\"relu\"))\n",
        "model.add(Conv2D(filters=512, kernel_size=(3,3), padding=\"same\", activation=\"relu\"))\n",
        "model.add(MaxPool2D(pool_size=(2,2),strides=(2,2)))\n",
        "model.add(Flatten())\n",
        "model.add(Dense(units=4096,activation=\"relu\"))\n",
        "model.add(Dense(units=4096,activation=\"relu\"))\n",
        "model.add(Dense(units=2, activation=\"softmax\")) #units=2 because we only want two classes."
      ]
    },
    {
      "cell_type": "code",
      "execution_count": null,
      "metadata": {
        "colab": {
          "base_uri": "https://localhost:8080/"
        },
        "id": "W_XAZ6grJP3k",
        "outputId": "f66454ad-94bb-4736-dcec-d465f2813070"
      },
      "outputs": [
        {
          "name": "stdout",
          "output_type": "stream",
          "text": [
            "Model: \"sequential_3\"\n",
            "_________________________________________________________________\n",
            "Layer (type)                 Output Shape              Param #   \n",
            "=================================================================\n",
            "conv2d_39 (Conv2D)           (None, 224, 224, 64)      1792      \n",
            "_________________________________________________________________\n",
            "conv2d_40 (Conv2D)           (None, 224, 224, 64)      36928     \n",
            "_________________________________________________________________\n",
            "max_pooling2d_15 (MaxPooling (None, 112, 112, 64)      0         \n",
            "_________________________________________________________________\n",
            "conv2d_41 (Conv2D)           (None, 112, 112, 128)     73856     \n",
            "_________________________________________________________________\n",
            "conv2d_42 (Conv2D)           (None, 112, 112, 128)     147584    \n",
            "_________________________________________________________________\n",
            "max_pooling2d_16 (MaxPooling (None, 56, 56, 128)       0         \n",
            "_________________________________________________________________\n",
            "conv2d_43 (Conv2D)           (None, 56, 56, 256)       295168    \n",
            "_________________________________________________________________\n",
            "conv2d_44 (Conv2D)           (None, 56, 56, 256)       590080    \n",
            "_________________________________________________________________\n",
            "conv2d_45 (Conv2D)           (None, 56, 56, 256)       590080    \n",
            "_________________________________________________________________\n",
            "max_pooling2d_17 (MaxPooling (None, 28, 28, 256)       0         \n",
            "_________________________________________________________________\n",
            "conv2d_46 (Conv2D)           (None, 28, 28, 512)       1180160   \n",
            "_________________________________________________________________\n",
            "conv2d_47 (Conv2D)           (None, 28, 28, 512)       2359808   \n",
            "_________________________________________________________________\n",
            "conv2d_48 (Conv2D)           (None, 28, 28, 512)       2359808   \n",
            "_________________________________________________________________\n",
            "max_pooling2d_18 (MaxPooling (None, 14, 14, 512)       0         \n",
            "_________________________________________________________________\n",
            "conv2d_49 (Conv2D)           (None, 14, 14, 512)       2359808   \n",
            "_________________________________________________________________\n",
            "conv2d_50 (Conv2D)           (None, 14, 14, 512)       2359808   \n",
            "_________________________________________________________________\n",
            "conv2d_51 (Conv2D)           (None, 14, 14, 512)       2359808   \n",
            "_________________________________________________________________\n",
            "max_pooling2d_19 (MaxPooling (None, 7, 7, 512)         0         \n",
            "_________________________________________________________________\n",
            "flatten_3 (Flatten)          (None, 25088)             0         \n",
            "_________________________________________________________________\n",
            "dense_9 (Dense)              (None, 4096)              102764544 \n",
            "_________________________________________________________________\n",
            "dense_10 (Dense)             (None, 4096)              16781312  \n",
            "_________________________________________________________________\n",
            "dense_11 (Dense)             (None, 2)                 8194      \n",
            "=================================================================\n",
            "Total params: 134,268,738\n",
            "Trainable params: 134,268,738\n",
            "Non-trainable params: 0\n",
            "_________________________________________________________________\n"
          ]
        }
      ],
      "source": [
        "# summary of the model\n",
        "model.summary()"
      ]
    },
    {
      "cell_type": "code",
      "execution_count": null,
      "metadata": {
        "id": "5n43uELEJP3k"
      },
      "outputs": [],
      "source": [
        "#compile the model\n",
        "#from keras.optimizers import Adam\n",
        "#opt = Adam(learning_rate=0.001)\n",
        "#You have to use this loss function for SVMSMOTE\n",
        "#model.compile(optimizer='Adam', loss='sparse_categorical_crossentropy', metrics=['accuracy'])\n",
        "#You have to use this loss function if you don't use any SMOTE functions\n",
        "model.compile(optimizer='Adam', loss='binary_crossentropy', metrics=['accuracy'])"
      ]
    },
    {
      "cell_type": "markdown",
      "metadata": {
        "id": "Ay4XhJWrPZZ_"
      },
      "source": [
        "## Train the Model"
      ]
    },
    {
      "cell_type": "markdown",
      "metadata": {
        "id": "agpxYEdqPZaA"
      },
      "source": [
        "We now train the model. The batch_size, or how many pieces of data to look at every epoch, is 32. This is important in defining steps_per_epoch and validation_steps. From the Keras documentation:\n",
        "steps_per_epoch: Total number of steps (batches of samples) to yield from generator before declaring one epoch finished and starting the next epoch. It should typically be equal to ceil(num_samples / batch_size).\n",
        "validation_steps: Total number of steps (batches of samples) to draw before stopping when performing validation at the end of every epoch.\n",
        "\n",
        "We also have three callbacks. The two ModelCheckpoint callbacks save the model with the highest validation accuracy and the model with the lowest validation loss. The EarlyStopping callback stops the training when val_loss stops improving based off of mind_delta and patience. \n"
      ]
    },
    {
      "cell_type": "code",
      "execution_count": null,
      "metadata": {
        "colab": {
          "base_uri": "https://localhost:8080/"
        },
        "id": "iC0KuWLAJP3l",
        "outputId": "d0b7b691-80a4-43ff-dcce-015d1a9c9dfa"
      },
      "outputs": [
        {
          "name": "stdout",
          "output_type": "stream",
          "text": [
            "Epoch 1/100\n",
            "1/1 [==============================] - 2s 2s/step - loss: 0.6868 - accuracy: 0.5882 - val_loss: 4062.7070 - val_accuracy: 0.5000\n",
            "\n",
            "Epoch 00001: val_accuracy improved from -inf to 0.50000, saving model to /content/drive/MyDrive/Colab Notebooks/videovalaccvgg16.h5\n",
            "\n",
            "Epoch 00001: val_loss improved from inf to 4062.70703, saving model to /content/drive/MyDrive/Colab Notebooks/videovallossvgg16.h5\n",
            "Epoch 2/100\n",
            "1/1 [==============================] - 0s 439ms/step - loss: 3200.8982 - accuracy: 0.5882 - val_loss: 1.6465 - val_accuracy: 0.5000\n",
            "\n",
            "Epoch 00002: val_accuracy did not improve from 0.50000\n",
            "\n",
            "Epoch 00002: val_loss improved from 4062.70703 to 1.64653, saving model to /content/drive/MyDrive/Colab Notebooks/videovallossvgg16.h5\n",
            "Epoch 3/100\n",
            "1/1 [==============================] - 0s 467ms/step - loss: 1.3497 - accuracy: 0.5882 - val_loss: 0.7075 - val_accuracy: 0.5000\n",
            "\n",
            "Epoch 00003: val_accuracy did not improve from 0.50000\n",
            "\n",
            "Epoch 00003: val_loss improved from 1.64653 to 0.70751, saving model to /content/drive/MyDrive/Colab Notebooks/videovallossvgg16.h5\n",
            "Epoch 4/100\n",
            "1/1 [==============================] - 0s 414ms/step - loss: 0.6930 - accuracy: 0.5882 - val_loss: 0.7063 - val_accuracy: 0.5000\n",
            "\n",
            "Epoch 00004: val_accuracy did not improve from 0.50000\n",
            "\n",
            "Epoch 00004: val_loss improved from 0.70751 to 0.70626, saving model to /content/drive/MyDrive/Colab Notebooks/videovallossvgg16.h5\n",
            "Epoch 5/100\n",
            "1/1 [==============================] - 0s 403ms/step - loss: 0.6950 - accuracy: 0.5882 - val_loss: 1.1090 - val_accuracy: 0.5000\n",
            "\n",
            "Epoch 00005: val_accuracy did not improve from 0.50000\n",
            "\n",
            "Epoch 00005: val_loss did not improve from 0.70626\n",
            "Epoch 6/100\n",
            "1/1 [==============================] - 0s 327ms/step - loss: 0.9406 - accuracy: 0.5882 - val_loss: 0.6931 - val_accuracy: 0.5000\n",
            "\n",
            "Epoch 00006: val_accuracy did not improve from 0.50000\n",
            "\n",
            "Epoch 00006: val_loss improved from 0.70626 to 0.69313, saving model to /content/drive/MyDrive/Colab Notebooks/videovallossvgg16.h5\n",
            "Epoch 7/100\n",
            "1/1 [==============================] - 0s 409ms/step - loss: 0.6904 - accuracy: 0.6471 - val_loss: 0.6932 - val_accuracy: 0.5000\n",
            "\n",
            "Epoch 00007: val_accuracy did not improve from 0.50000\n",
            "\n",
            "Epoch 00007: val_loss did not improve from 0.69313\n",
            "Epoch 8/100\n",
            "1/1 [==============================] - 0s 322ms/step - loss: 0.6931 - accuracy: 0.4118 - val_loss: 0.6940 - val_accuracy: 0.5000\n",
            "\n",
            "Epoch 00008: val_accuracy did not improve from 0.50000\n",
            "\n",
            "Epoch 00008: val_loss did not improve from 0.69313\n",
            "Epoch 9/100\n",
            "1/1 [==============================] - 0s 344ms/step - loss: 0.6872 - accuracy: 0.5882 - val_loss: 0.7515 - val_accuracy: 0.5000\n",
            "\n",
            "Epoch 00009: val_accuracy did not improve from 0.50000\n",
            "\n",
            "Epoch 00009: val_loss did not improve from 0.69313\n",
            "Epoch 10/100\n",
            "1/1 [==============================] - 0s 327ms/step - loss: 0.6893 - accuracy: 0.5882 - val_loss: 0.7052 - val_accuracy: 0.5000\n",
            "\n",
            "Epoch 00010: val_accuracy did not improve from 0.50000\n",
            "\n",
            "Epoch 00010: val_loss did not improve from 0.69313\n",
            "Epoch 11/100\n",
            "1/1 [==============================] - 0s 327ms/step - loss: 0.7023 - accuracy: 0.4118 - val_loss: 0.7372 - val_accuracy: 0.5000\n",
            "\n",
            "Epoch 00011: val_accuracy did not improve from 0.50000\n",
            "\n",
            "Epoch 00011: val_loss did not improve from 0.69313\n",
            "Epoch 12/100\n",
            "1/1 [==============================] - 0s 326ms/step - loss: 0.7183 - accuracy: 0.4118 - val_loss: 0.6996 - val_accuracy: 0.3750\n",
            "\n",
            "Epoch 00012: val_accuracy did not improve from 0.50000\n",
            "\n",
            "Epoch 00012: val_loss did not improve from 0.69313\n",
            "Epoch 13/100\n",
            "1/1 [==============================] - 0s 327ms/step - loss: 0.6841 - accuracy: 0.5882 - val_loss: 0.7335 - val_accuracy: 0.5000\n",
            "\n",
            "Epoch 00013: val_accuracy did not improve from 0.50000\n",
            "\n",
            "Epoch 00013: val_loss did not improve from 0.69313\n",
            "Epoch 14/100\n",
            "1/1 [==============================] - 0s 327ms/step - loss: 0.6812 - accuracy: 0.5882 - val_loss: 0.7110 - val_accuracy: 0.5000\n",
            "\n",
            "Epoch 00014: val_accuracy did not improve from 0.50000\n",
            "\n",
            "Epoch 00014: val_loss did not improve from 0.69313\n",
            "Epoch 15/100\n",
            "1/1 [==============================] - 0s 325ms/step - loss: 0.6732 - accuracy: 0.5882 - val_loss: 0.7084 - val_accuracy: 0.5000\n",
            "\n",
            "Epoch 00015: val_accuracy did not improve from 0.50000\n",
            "\n",
            "Epoch 00015: val_loss did not improve from 0.69313\n",
            "Epoch 16/100\n",
            "1/1 [==============================] - 0s 329ms/step - loss: 0.6681 - accuracy: 0.5882 - val_loss: 0.7327 - val_accuracy: 0.5000\n",
            "\n",
            "Epoch 00016: val_accuracy did not improve from 0.50000\n",
            "\n",
            "Epoch 00016: val_loss did not improve from 0.69313\n",
            "Epoch 00016: early stopping\n",
            "Epoch 1/100\n",
            "1/1 [==============================] - 0s 352ms/step - loss: 0.7629 - accuracy: 0.4118 - val_loss: 0.6977 - val_accuracy: 0.5000\n",
            "\n",
            "Epoch 00001: val_accuracy did not improve from 0.50000\n",
            "\n",
            "Epoch 00001: val_loss did not improve from 0.69313\n",
            "Epoch 2/100\n",
            "1/1 [==============================] - 0s 322ms/step - loss: 0.6853 - accuracy: 0.5294 - val_loss: 0.7137 - val_accuracy: 0.5000\n",
            "\n",
            "Epoch 00002: val_accuracy did not improve from 0.50000\n",
            "\n",
            "Epoch 00002: val_loss did not improve from 0.69313\n",
            "Epoch 3/100\n",
            "1/1 [==============================] - 0s 349ms/step - loss: 0.6750 - accuracy: 0.5882 - val_loss: 0.8449 - val_accuracy: 0.5000\n",
            "\n",
            "Epoch 00003: val_accuracy did not improve from 0.50000\n",
            "\n",
            "Epoch 00003: val_loss did not improve from 0.69313\n",
            "Epoch 4/100\n",
            "1/1 [==============================] - 0s 325ms/step - loss: 0.7160 - accuracy: 0.5882 - val_loss: 0.6970 - val_accuracy: 0.5000\n",
            "\n",
            "Epoch 00004: val_accuracy did not improve from 0.50000\n",
            "\n",
            "Epoch 00004: val_loss did not improve from 0.69313\n",
            "Epoch 5/100\n",
            "1/1 [==============================] - 0s 332ms/step - loss: 0.6797 - accuracy: 0.5882 - val_loss: 0.6990 - val_accuracy: 0.5000\n",
            "\n",
            "Epoch 00005: val_accuracy did not improve from 0.50000\n",
            "\n",
            "Epoch 00005: val_loss did not improve from 0.69313\n",
            "Epoch 6/100\n",
            "1/1 [==============================] - 0s 332ms/step - loss: 0.6771 - accuracy: 0.5882 - val_loss: 0.7245 - val_accuracy: 0.5000\n",
            "\n",
            "Epoch 00006: val_accuracy did not improve from 0.50000\n",
            "\n",
            "Epoch 00006: val_loss did not improve from 0.69313\n",
            "Epoch 7/100\n",
            "1/1 [==============================] - 0s 332ms/step - loss: 0.6708 - accuracy: 0.5882 - val_loss: 0.7725 - val_accuracy: 0.5000\n",
            "\n",
            "Epoch 00007: val_accuracy did not improve from 0.50000\n",
            "\n",
            "Epoch 00007: val_loss did not improve from 0.69313\n",
            "Epoch 8/100\n",
            "1/1 [==============================] - 0s 328ms/step - loss: 0.6799 - accuracy: 0.5882 - val_loss: 0.7005 - val_accuracy: 0.5000\n",
            "\n",
            "Epoch 00008: val_accuracy did not improve from 0.50000\n",
            "\n",
            "Epoch 00008: val_loss did not improve from 0.69313\n",
            "Epoch 9/100\n",
            "1/1 [==============================] - 0s 336ms/step - loss: 0.6741 - accuracy: 0.5882 - val_loss: 0.6947 - val_accuracy: 0.5000\n",
            "\n",
            "Epoch 00009: val_accuracy did not improve from 0.50000\n",
            "\n",
            "Epoch 00009: val_loss did not improve from 0.69313\n",
            "Epoch 10/100\n",
            "1/1 [==============================] - 0s 326ms/step - loss: 0.6796 - accuracy: 0.5882 - val_loss: 0.6953 - val_accuracy: 0.5000\n",
            "\n",
            "Epoch 00010: val_accuracy did not improve from 0.50000\n",
            "\n",
            "Epoch 00010: val_loss did not improve from 0.69313\n",
            "Epoch 11/100\n",
            "1/1 [==============================] - 0s 323ms/step - loss: 0.6761 - accuracy: 0.5882 - val_loss: 0.7054 - val_accuracy: 0.5000\n",
            "\n",
            "Epoch 00011: val_accuracy did not improve from 0.50000\n",
            "\n",
            "Epoch 00011: val_loss did not improve from 0.69313\n",
            "Epoch 12/100\n",
            "1/1 [==============================] - 0s 334ms/step - loss: 0.6649 - accuracy: 0.5882 - val_loss: 0.7748 - val_accuracy: 0.5000\n",
            "\n",
            "Epoch 00012: val_accuracy did not improve from 0.50000\n",
            "\n",
            "Epoch 00012: val_loss did not improve from 0.69313\n",
            "Epoch 13/100\n",
            "1/1 [==============================] - 0s 324ms/step - loss: 0.6715 - accuracy: 0.5882 - val_loss: 0.7020 - val_accuracy: 0.5000\n",
            "\n",
            "Epoch 00013: val_accuracy did not improve from 0.50000\n",
            "\n",
            "Epoch 00013: val_loss did not improve from 0.69313\n",
            "Epoch 14/100\n",
            "1/1 [==============================] - 0s 330ms/step - loss: 0.6549 - accuracy: 0.5882 - val_loss: 0.6940 - val_accuracy: 0.5000\n",
            "\n",
            "Epoch 00014: val_accuracy did not improve from 0.50000\n",
            "\n",
            "Epoch 00014: val_loss did not improve from 0.69313\n",
            "Epoch 15/100\n",
            "1/1 [==============================] - 0s 333ms/step - loss: 0.6540 - accuracy: 0.5882 - val_loss: 0.7067 - val_accuracy: 0.5000\n",
            "\n",
            "Epoch 00015: val_accuracy did not improve from 0.50000\n",
            "\n",
            "Epoch 00015: val_loss did not improve from 0.69313\n",
            "Epoch 16/100\n",
            "1/1 [==============================] - 0s 335ms/step - loss: 0.6341 - accuracy: 0.5882 - val_loss: 0.7942 - val_accuracy: 0.5000\n",
            "\n",
            "Epoch 00016: val_accuracy did not improve from 0.50000\n",
            "\n",
            "Epoch 00016: val_loss did not improve from 0.69313\n",
            "Epoch 17/100\n",
            "1/1 [==============================] - 0s 339ms/step - loss: 0.6411 - accuracy: 0.5882 - val_loss: 0.6984 - val_accuracy: 0.6250\n",
            "\n",
            "Epoch 00017: val_accuracy improved from 0.50000 to 0.62500, saving model to /content/drive/MyDrive/Colab Notebooks/videovalaccvgg16.h5\n",
            "\n",
            "Epoch 00017: val_loss did not improve from 0.69313\n",
            "Epoch 18/100\n",
            "1/1 [==============================] - 0s 401ms/step - loss: 0.6589 - accuracy: 0.5882 - val_loss: 0.6850 - val_accuracy: 0.6250\n",
            "\n",
            "Epoch 00018: val_accuracy did not improve from 0.62500\n",
            "\n",
            "Epoch 00018: val_loss improved from 0.69313 to 0.68498, saving model to /content/drive/MyDrive/Colab Notebooks/videovallossvgg16.h5\n",
            "Epoch 19/100\n",
            "1/1 [==============================] - 0s 414ms/step - loss: 0.6334 - accuracy: 0.5882 - val_loss: 0.6943 - val_accuracy: 0.6250\n",
            "\n",
            "Epoch 00019: val_accuracy did not improve from 0.62500\n",
            "\n",
            "Epoch 00019: val_loss did not improve from 0.68498\n",
            "Epoch 20/100\n",
            "1/1 [==============================] - 0s 337ms/step - loss: 0.5759 - accuracy: 0.7647 - val_loss: 0.9539 - val_accuracy: 0.6250\n",
            "\n",
            "Epoch 00020: val_accuracy did not improve from 0.62500\n",
            "\n",
            "Epoch 00020: val_loss did not improve from 0.68498\n",
            "Epoch 21/100\n",
            "1/1 [==============================] - 0s 324ms/step - loss: 0.6534 - accuracy: 0.7059 - val_loss: 0.8314 - val_accuracy: 0.7500\n",
            "\n",
            "Epoch 00021: val_accuracy improved from 0.62500 to 0.75000, saving model to /content/drive/MyDrive/Colab Notebooks/videovalaccvgg16.h5\n",
            "\n",
            "Epoch 00021: val_loss did not improve from 0.68498\n",
            "Epoch 22/100\n",
            "1/1 [==============================] - 0s 422ms/step - loss: 0.5618 - accuracy: 0.6471 - val_loss: 0.7931 - val_accuracy: 0.6250\n",
            "\n",
            "Epoch 00022: val_accuracy did not improve from 0.75000\n",
            "\n",
            "Epoch 00022: val_loss did not improve from 0.68498\n",
            "Epoch 23/100\n",
            "1/1 [==============================] - 0s 324ms/step - loss: 0.5575 - accuracy: 0.6471 - val_loss: 0.6873 - val_accuracy: 0.3750\n",
            "\n",
            "Epoch 00023: val_accuracy did not improve from 0.75000\n",
            "\n",
            "Epoch 00023: val_loss did not improve from 0.68498\n",
            "Epoch 24/100\n",
            "1/1 [==============================] - 0s 322ms/step - loss: 0.5202 - accuracy: 0.5882 - val_loss: 0.6831 - val_accuracy: 0.6250\n",
            "\n",
            "Epoch 00024: val_accuracy did not improve from 0.75000\n",
            "\n",
            "Epoch 00024: val_loss improved from 0.68498 to 0.68306, saving model to /content/drive/MyDrive/Colab Notebooks/videovallossvgg16.h5\n",
            "Epoch 25/100\n",
            "1/1 [==============================] - 0s 403ms/step - loss: 0.5220 - accuracy: 0.7059 - val_loss: 0.6795 - val_accuracy: 0.6250\n",
            "\n",
            "Epoch 00025: val_accuracy did not improve from 0.75000\n",
            "\n",
            "Epoch 00025: val_loss improved from 0.68306 to 0.67953, saving model to /content/drive/MyDrive/Colab Notebooks/videovallossvgg16.h5\n",
            "Epoch 26/100\n",
            "1/1 [==============================] - 0s 411ms/step - loss: 0.5034 - accuracy: 0.7059 - val_loss: 0.6637 - val_accuracy: 0.3750\n",
            "\n",
            "Epoch 00026: val_accuracy did not improve from 0.75000\n",
            "\n",
            "Epoch 00026: val_loss improved from 0.67953 to 0.66369, saving model to /content/drive/MyDrive/Colab Notebooks/videovallossvgg16.h5\n",
            "Epoch 27/100\n",
            "1/1 [==============================] - 0s 420ms/step - loss: 0.4494 - accuracy: 0.6471 - val_loss: 0.6501 - val_accuracy: 0.6250\n",
            "\n",
            "Epoch 00027: val_accuracy did not improve from 0.75000\n",
            "\n",
            "Epoch 00027: val_loss improved from 0.66369 to 0.65015, saving model to /content/drive/MyDrive/Colab Notebooks/videovallossvgg16.h5\n",
            "Epoch 28/100\n",
            "1/1 [==============================] - 0s 413ms/step - loss: 0.4438 - accuracy: 0.7059 - val_loss: 0.5924 - val_accuracy: 0.7500\n",
            "\n",
            "Epoch 00028: val_accuracy did not improve from 0.75000\n",
            "\n",
            "Epoch 00028: val_loss improved from 0.65015 to 0.59239, saving model to /content/drive/MyDrive/Colab Notebooks/videovallossvgg16.h5\n",
            "Epoch 29/100\n",
            "1/1 [==============================] - 0s 408ms/step - loss: 0.3980 - accuracy: 0.8235 - val_loss: 0.6603 - val_accuracy: 0.6250\n",
            "\n",
            "Epoch 00029: val_accuracy did not improve from 0.75000\n",
            "\n",
            "Epoch 00029: val_loss did not improve from 0.59239\n",
            "Epoch 30/100\n",
            "1/1 [==============================] - 0s 322ms/step - loss: 0.3369 - accuracy: 0.8824 - val_loss: 0.4206 - val_accuracy: 0.7500\n",
            "\n",
            "Epoch 00030: val_accuracy did not improve from 0.75000\n",
            "\n",
            "Epoch 00030: val_loss improved from 0.59239 to 0.42064, saving model to /content/drive/MyDrive/Colab Notebooks/videovallossvgg16.h5\n",
            "Epoch 31/100\n",
            "1/1 [==============================] - 0s 397ms/step - loss: 0.2653 - accuracy: 0.8824 - val_loss: 1.8226 - val_accuracy: 0.6250\n",
            "\n",
            "Epoch 00031: val_accuracy did not improve from 0.75000\n",
            "\n",
            "Epoch 00031: val_loss did not improve from 0.42064\n",
            "Epoch 32/100\n",
            "1/1 [==============================] - 0s 328ms/step - loss: 0.5752 - accuracy: 0.7059 - val_loss: 0.6486 - val_accuracy: 0.6250\n",
            "\n",
            "Epoch 00032: val_accuracy did not improve from 0.75000\n",
            "\n",
            "Epoch 00032: val_loss did not improve from 0.42064\n",
            "Epoch 33/100\n",
            "1/1 [==============================] - 0s 329ms/step - loss: 0.4895 - accuracy: 0.8235 - val_loss: 0.6349 - val_accuracy: 0.6250\n",
            "\n",
            "Epoch 00033: val_accuracy did not improve from 0.75000\n",
            "\n",
            "Epoch 00033: val_loss did not improve from 0.42064\n",
            "Epoch 34/100\n",
            "1/1 [==============================] - 0s 324ms/step - loss: 0.2902 - accuracy: 0.8235 - val_loss: 0.6674 - val_accuracy: 0.6250\n",
            "\n",
            "Epoch 00034: val_accuracy did not improve from 0.75000\n",
            "\n",
            "Epoch 00034: val_loss did not improve from 0.42064\n",
            "Epoch 35/100\n",
            "1/1 [==============================] - 0s 320ms/step - loss: 0.3286 - accuracy: 0.7647 - val_loss: 0.6309 - val_accuracy: 0.5000\n",
            "\n",
            "Epoch 00035: val_accuracy did not improve from 0.75000\n",
            "\n",
            "Epoch 00035: val_loss did not improve from 0.42064\n",
            "Epoch 36/100\n",
            "1/1 [==============================] - 0s 323ms/step - loss: 0.3223 - accuracy: 0.8824 - val_loss: 0.8004 - val_accuracy: 0.6250\n",
            "\n",
            "Epoch 00036: val_accuracy did not improve from 0.75000\n",
            "\n",
            "Epoch 00036: val_loss did not improve from 0.42064\n",
            "Epoch 37/100\n",
            "1/1 [==============================] - 0s 324ms/step - loss: 0.2539 - accuracy: 0.8824 - val_loss: 0.8583 - val_accuracy: 0.5000\n",
            "\n",
            "Epoch 00037: val_accuracy did not improve from 0.75000\n",
            "\n",
            "Epoch 00037: val_loss did not improve from 0.42064\n",
            "Epoch 38/100\n",
            "1/1 [==============================] - 0s 320ms/step - loss: 0.1797 - accuracy: 0.8824 - val_loss: 1.4742 - val_accuracy: 0.5000\n",
            "\n",
            "Epoch 00038: val_accuracy did not improve from 0.75000\n",
            "\n",
            "Epoch 00038: val_loss did not improve from 0.42064\n",
            "Epoch 39/100\n",
            "1/1 [==============================] - 0s 319ms/step - loss: 0.0860 - accuracy: 1.0000 - val_loss: 3.4419 - val_accuracy: 0.5000\n",
            "\n",
            "Epoch 00039: val_accuracy did not improve from 0.75000\n",
            "\n",
            "Epoch 00039: val_loss did not improve from 0.42064\n",
            "Epoch 40/100\n",
            "1/1 [==============================] - 0s 326ms/step - loss: 0.0189 - accuracy: 1.0000 - val_loss: 8.7892 - val_accuracy: 0.5000\n",
            "\n",
            "Epoch 00040: val_accuracy did not improve from 0.75000\n",
            "\n",
            "Epoch 00040: val_loss did not improve from 0.42064\n",
            "Epoch 00040: early stopping\n",
            "Epoch 1/100\n",
            "1/1 [==============================] - 0s 426ms/step - loss: 6.0236 - accuracy: 0.8889 - val_loss: 8.3248 - val_accuracy: 0.3750\n",
            "\n",
            "Epoch 00001: val_accuracy did not improve from 0.75000\n",
            "\n",
            "Epoch 00001: val_loss did not improve from 0.42064\n",
            "Epoch 2/100\n",
            "1/1 [==============================] - 0s 329ms/step - loss: 5.3160 - accuracy: 0.5556 - val_loss: 0.7173 - val_accuracy: 0.5000\n",
            "\n",
            "Epoch 00002: val_accuracy did not improve from 0.75000\n",
            "\n",
            "Epoch 00002: val_loss did not improve from 0.42064\n",
            "Epoch 3/100\n",
            "1/1 [==============================] - 0s 326ms/step - loss: 0.4786 - accuracy: 0.7778 - val_loss: 0.7225 - val_accuracy: 0.6250\n",
            "\n",
            "Epoch 00003: val_accuracy did not improve from 0.75000\n",
            "\n",
            "Epoch 00003: val_loss did not improve from 0.42064\n",
            "Epoch 4/100\n",
            "1/1 [==============================] - 0s 329ms/step - loss: 0.6224 - accuracy: 0.7222 - val_loss: 0.6961 - val_accuracy: 0.3750\n",
            "\n",
            "Epoch 00004: val_accuracy did not improve from 0.75000\n",
            "\n",
            "Epoch 00004: val_loss did not improve from 0.42064\n",
            "Epoch 5/100\n",
            "1/1 [==============================] - 0s 335ms/step - loss: 0.6184 - accuracy: 0.8333 - val_loss: 0.7360 - val_accuracy: 0.3750\n",
            "\n",
            "Epoch 00005: val_accuracy did not improve from 0.75000\n",
            "\n",
            "Epoch 00005: val_loss did not improve from 0.42064\n",
            "Epoch 6/100\n",
            "1/1 [==============================] - 0s 328ms/step - loss: 0.5699 - accuracy: 0.7778 - val_loss: 0.8091 - val_accuracy: 0.6250\n",
            "\n",
            "Epoch 00006: val_accuracy did not improve from 0.75000\n",
            "\n",
            "Epoch 00006: val_loss did not improve from 0.42064\n",
            "Epoch 7/100\n",
            "1/1 [==============================] - 0s 329ms/step - loss: 0.5132 - accuracy: 0.7222 - val_loss: 4.2878 - val_accuracy: 0.3750\n",
            "\n",
            "Epoch 00007: val_accuracy did not improve from 0.75000\n",
            "\n",
            "Epoch 00007: val_loss did not improve from 0.42064\n",
            "Epoch 8/100\n",
            "1/1 [==============================] - 0s 335ms/step - loss: 2.9780 - accuracy: 0.5556 - val_loss: 0.7593 - val_accuracy: 0.6250\n",
            "\n",
            "Epoch 00008: val_accuracy did not improve from 0.75000\n",
            "\n",
            "Epoch 00008: val_loss did not improve from 0.42064\n",
            "Epoch 9/100\n",
            "1/1 [==============================] - 0s 330ms/step - loss: 0.7260 - accuracy: 0.4444 - val_loss: 0.6630 - val_accuracy: 0.6250\n",
            "\n",
            "Epoch 00009: val_accuracy did not improve from 0.75000\n",
            "\n",
            "Epoch 00009: val_loss did not improve from 0.42064\n",
            "Epoch 10/100\n",
            "1/1 [==============================] - 0s 332ms/step - loss: 0.6762 - accuracy: 0.4444 - val_loss: 0.6937 - val_accuracy: 0.5000\n",
            "\n",
            "Epoch 00010: val_accuracy did not improve from 0.75000\n",
            "\n",
            "Epoch 00010: val_loss did not improve from 0.42064\n",
            "Epoch 11/100\n",
            "1/1 [==============================] - 0s 340ms/step - loss: 0.6544 - accuracy: 0.7222 - val_loss: 1.1003 - val_accuracy: 0.3750\n",
            "\n",
            "Epoch 00011: val_accuracy did not improve from 0.75000\n",
            "\n",
            "Epoch 00011: val_loss did not improve from 0.42064\n",
            "Epoch 12/100\n",
            "1/1 [==============================] - 0s 330ms/step - loss: 0.7995 - accuracy: 0.5556 - val_loss: 0.6816 - val_accuracy: 0.6250\n",
            "\n",
            "Epoch 00012: val_accuracy did not improve from 0.75000\n",
            "\n",
            "Epoch 00012: val_loss did not improve from 0.42064\n",
            "Epoch 13/100\n",
            "1/1 [==============================] - 0s 323ms/step - loss: 0.6851 - accuracy: 0.4444 - val_loss: 0.6822 - val_accuracy: 0.6250\n",
            "\n",
            "Epoch 00013: val_accuracy did not improve from 0.75000\n",
            "\n",
            "Epoch 00013: val_loss did not improve from 0.42064\n",
            "Epoch 14/100\n",
            "1/1 [==============================] - 0s 330ms/step - loss: 0.6983 - accuracy: 0.4444 - val_loss: 0.6784 - val_accuracy: 0.6250\n",
            "\n",
            "Epoch 00014: val_accuracy did not improve from 0.75000\n",
            "\n",
            "Epoch 00014: val_loss did not improve from 0.42064\n",
            "Epoch 15/100\n",
            "1/1 [==============================] - 0s 336ms/step - loss: 0.6919 - accuracy: 0.4444 - val_loss: 0.6781 - val_accuracy: 0.6250\n",
            "\n",
            "Epoch 00015: val_accuracy did not improve from 0.75000\n",
            "\n",
            "Epoch 00015: val_loss did not improve from 0.42064\n",
            "Epoch 16/100\n",
            "1/1 [==============================] - 0s 339ms/step - loss: 0.6829 - accuracy: 0.4444 - val_loss: 0.6817 - val_accuracy: 0.6250\n",
            "\n",
            "Epoch 00016: val_accuracy did not improve from 0.75000\n",
            "\n",
            "Epoch 00016: val_loss did not improve from 0.42064\n",
            "Epoch 17/100\n",
            "1/1 [==============================] - 0s 330ms/step - loss: 0.6795 - accuracy: 0.6667 - val_loss: 0.6812 - val_accuracy: 0.5000\n",
            "\n",
            "Epoch 00017: val_accuracy did not improve from 0.75000\n",
            "\n",
            "Epoch 00017: val_loss did not improve from 0.42064\n",
            "Epoch 18/100\n",
            "1/1 [==============================] - 0s 339ms/step - loss: 0.6698 - accuracy: 0.6667 - val_loss: 0.6738 - val_accuracy: 0.5000\n",
            "\n",
            "Epoch 00018: val_accuracy did not improve from 0.75000\n",
            "\n",
            "Epoch 00018: val_loss did not improve from 0.42064\n",
            "Epoch 19/100\n",
            "1/1 [==============================] - 0s 332ms/step - loss: 0.6323 - accuracy: 0.7778 - val_loss: 0.8146 - val_accuracy: 0.6250\n",
            "\n",
            "Epoch 00019: val_accuracy did not improve from 0.75000\n",
            "\n",
            "Epoch 00019: val_loss did not improve from 0.42064\n",
            "Epoch 00019: early stopping\n",
            "Epoch 1/100\n",
            "1/1 [==============================] - 0s 437ms/step - loss: 0.7287 - accuracy: 0.5000 - val_loss: 0.6446 - val_accuracy: 0.5000\n",
            "\n",
            "Epoch 00001: val_accuracy did not improve from 0.75000\n",
            "\n",
            "Epoch 00001: val_loss did not improve from 0.42064\n",
            "Epoch 2/100\n",
            "1/1 [==============================] - 0s 336ms/step - loss: 0.6575 - accuracy: 0.7222 - val_loss: 0.6361 - val_accuracy: 0.6250\n",
            "\n",
            "Epoch 00002: val_accuracy did not improve from 0.75000\n",
            "\n",
            "Epoch 00002: val_loss did not improve from 0.42064\n",
            "Epoch 3/100\n",
            "1/1 [==============================] - 0s 338ms/step - loss: 0.6548 - accuracy: 0.6667 - val_loss: 0.6310 - val_accuracy: 0.6250\n",
            "\n",
            "Epoch 00003: val_accuracy did not improve from 0.75000\n",
            "\n",
            "Epoch 00003: val_loss did not improve from 0.42064\n",
            "Epoch 4/100\n",
            "1/1 [==============================] - 0s 331ms/step - loss: 0.6314 - accuracy: 0.7222 - val_loss: 0.6354 - val_accuracy: 0.6250\n",
            "\n",
            "Epoch 00004: val_accuracy did not improve from 0.75000\n",
            "\n",
            "Epoch 00004: val_loss did not improve from 0.42064\n",
            "Epoch 5/100\n",
            "1/1 [==============================] - 0s 348ms/step - loss: 0.6257 - accuracy: 0.7222 - val_loss: 0.6189 - val_accuracy: 0.6250\n",
            "\n",
            "Epoch 00005: val_accuracy did not improve from 0.75000\n",
            "\n",
            "Epoch 00005: val_loss did not improve from 0.42064\n",
            "Epoch 6/100\n",
            "1/1 [==============================] - 0s 337ms/step - loss: 0.6089 - accuracy: 0.5556 - val_loss: 0.6099 - val_accuracy: 0.6250\n",
            "\n",
            "Epoch 00006: val_accuracy did not improve from 0.75000\n",
            "\n",
            "Epoch 00006: val_loss did not improve from 0.42064\n",
            "Epoch 7/100\n",
            "1/1 [==============================] - 0s 335ms/step - loss: 0.5773 - accuracy: 0.7778 - val_loss: 0.5939 - val_accuracy: 0.6250\n",
            "\n",
            "Epoch 00007: val_accuracy did not improve from 0.75000\n",
            "\n",
            "Epoch 00007: val_loss did not improve from 0.42064\n",
            "Epoch 8/100\n",
            "1/1 [==============================] - 0s 341ms/step - loss: 0.5146 - accuracy: 0.7778 - val_loss: 0.6921 - val_accuracy: 0.5000\n",
            "\n",
            "Epoch 00008: val_accuracy did not improve from 0.75000\n",
            "\n",
            "Epoch 00008: val_loss did not improve from 0.42064\n",
            "Epoch 9/100\n",
            "1/1 [==============================] - 0s 334ms/step - loss: 0.5395 - accuracy: 0.6667 - val_loss: 1.9629 - val_accuracy: 0.6250\n",
            "\n",
            "Epoch 00009: val_accuracy did not improve from 0.75000\n",
            "\n",
            "Epoch 00009: val_loss did not improve from 0.42064\n",
            "Epoch 10/100\n",
            "1/1 [==============================] - 0s 332ms/step - loss: 1.6944 - accuracy: 0.5556 - val_loss: 0.5850 - val_accuracy: 0.6250\n",
            "\n",
            "Epoch 00010: val_accuracy did not improve from 0.75000\n",
            "\n",
            "Epoch 00010: val_loss did not improve from 0.42064\n",
            "Epoch 11/100\n",
            "1/1 [==============================] - 0s 356ms/step - loss: 0.4399 - accuracy: 0.8889 - val_loss: 0.7674 - val_accuracy: 0.5000\n",
            "\n",
            "Epoch 00011: val_accuracy did not improve from 0.75000\n",
            "\n",
            "Epoch 00011: val_loss did not improve from 0.42064\n",
            "Epoch 12/100\n",
            "1/1 [==============================] - 0s 327ms/step - loss: 0.6302 - accuracy: 0.5000 - val_loss: 0.7259 - val_accuracy: 0.6250\n",
            "\n",
            "Epoch 00012: val_accuracy did not improve from 0.75000\n",
            "\n",
            "Epoch 00012: val_loss did not improve from 0.42064\n",
            "Epoch 13/100\n",
            "1/1 [==============================] - 0s 337ms/step - loss: 0.6224 - accuracy: 0.5000 - val_loss: 0.6712 - val_accuracy: 0.6250\n",
            "\n",
            "Epoch 00013: val_accuracy did not improve from 0.75000\n",
            "\n",
            "Epoch 00013: val_loss did not improve from 0.42064\n",
            "Epoch 14/100\n",
            "1/1 [==============================] - 0s 334ms/step - loss: 0.5995 - accuracy: 0.9444 - val_loss: 0.6340 - val_accuracy: 0.6250\n",
            "\n",
            "Epoch 00014: val_accuracy did not improve from 0.75000\n",
            "\n",
            "Epoch 00014: val_loss did not improve from 0.42064\n",
            "Epoch 15/100\n",
            "1/1 [==============================] - 0s 331ms/step - loss: 0.5339 - accuracy: 0.6667 - val_loss: 0.9395 - val_accuracy: 0.6250\n",
            "\n",
            "Epoch 00015: val_accuracy did not improve from 0.75000\n",
            "\n",
            "Epoch 00015: val_loss did not improve from 0.42064\n",
            "Epoch 16/100\n",
            "1/1 [==============================] - 0s 344ms/step - loss: 0.5211 - accuracy: 0.8333 - val_loss: 0.8919 - val_accuracy: 0.6250\n",
            "\n",
            "Epoch 00016: val_accuracy did not improve from 0.75000\n",
            "\n",
            "Epoch 00016: val_loss did not improve from 0.42064\n",
            "Epoch 17/100\n",
            "1/1 [==============================] - 0s 380ms/step - loss: 0.6164 - accuracy: 0.6667 - val_loss: 0.8644 - val_accuracy: 0.3750\n",
            "\n",
            "Epoch 00017: val_accuracy did not improve from 0.75000\n",
            "\n",
            "Epoch 00017: val_loss did not improve from 0.42064\n",
            "Epoch 18/100\n",
            "1/1 [==============================] - 0s 329ms/step - loss: 0.7292 - accuracy: 0.5000 - val_loss: 0.6563 - val_accuracy: 0.5000\n",
            "\n",
            "Epoch 00018: val_accuracy did not improve from 0.75000\n",
            "\n",
            "Epoch 00018: val_loss did not improve from 0.42064\n",
            "Epoch 19/100\n",
            "1/1 [==============================] - 0s 331ms/step - loss: 0.5346 - accuracy: 0.6667 - val_loss: 0.6378 - val_accuracy: 0.6250\n",
            "\n",
            "Epoch 00019: val_accuracy did not improve from 0.75000\n",
            "\n",
            "Epoch 00019: val_loss did not improve from 0.42064\n",
            "Epoch 20/100\n",
            "1/1 [==============================] - 0s 333ms/step - loss: 0.5228 - accuracy: 0.6667 - val_loss: 0.6898 - val_accuracy: 0.6250\n",
            "\n",
            "Epoch 00020: val_accuracy did not improve from 0.75000\n",
            "\n",
            "Epoch 00020: val_loss did not improve from 0.42064\n",
            "Epoch 00020: early stopping\n",
            "Epoch 1/100\n",
            "1/1 [==============================] - 0s 447ms/step - loss: 0.5374 - accuracy: 0.7222 - val_loss: 1.0244 - val_accuracy: 0.5000\n",
            "\n",
            "Epoch 00001: val_accuracy did not improve from 0.75000\n",
            "\n",
            "Epoch 00001: val_loss did not improve from 0.42064\n",
            "Epoch 2/100\n",
            "1/1 [==============================] - 0s 342ms/step - loss: 0.4848 - accuracy: 0.7222 - val_loss: 0.9629 - val_accuracy: 0.3750\n",
            "\n",
            "Epoch 00002: val_accuracy did not improve from 0.75000\n",
            "\n",
            "Epoch 00002: val_loss did not improve from 0.42064\n",
            "Epoch 3/100\n",
            "1/1 [==============================] - 0s 354ms/step - loss: 0.4356 - accuracy: 0.7222 - val_loss: 1.2720 - val_accuracy: 0.3750\n",
            "\n",
            "Epoch 00003: val_accuracy did not improve from 0.75000\n",
            "\n",
            "Epoch 00003: val_loss did not improve from 0.42064\n",
            "Epoch 4/100\n",
            "1/1 [==============================] - 0s 327ms/step - loss: 0.3453 - accuracy: 0.8333 - val_loss: 1.9976 - val_accuracy: 0.3750\n",
            "\n",
            "Epoch 00004: val_accuracy did not improve from 0.75000\n",
            "\n",
            "Epoch 00004: val_loss did not improve from 0.42064\n",
            "Epoch 5/100\n",
            "1/1 [==============================] - 0s 340ms/step - loss: 0.3192 - accuracy: 0.8889 - val_loss: 3.7785 - val_accuracy: 0.5000\n",
            "\n",
            "Epoch 00005: val_accuracy did not improve from 0.75000\n",
            "\n",
            "Epoch 00005: val_loss did not improve from 0.42064\n",
            "Epoch 6/100\n",
            "1/1 [==============================] - 0s 330ms/step - loss: 0.8938 - accuracy: 0.7778 - val_loss: 1.7991 - val_accuracy: 0.5000\n",
            "\n",
            "Epoch 00006: val_accuracy did not improve from 0.75000\n",
            "\n",
            "Epoch 00006: val_loss did not improve from 0.42064\n",
            "Epoch 7/100\n",
            "1/1 [==============================] - 0s 337ms/step - loss: 0.6046 - accuracy: 0.6667 - val_loss: 0.9202 - val_accuracy: 0.3750\n",
            "\n",
            "Epoch 00007: val_accuracy did not improve from 0.75000\n",
            "\n",
            "Epoch 00007: val_loss did not improve from 0.42064\n",
            "Epoch 8/100\n",
            "1/1 [==============================] - 0s 360ms/step - loss: 0.5101 - accuracy: 0.8333 - val_loss: 1.0325 - val_accuracy: 0.3750\n",
            "\n",
            "Epoch 00008: val_accuracy did not improve from 0.75000\n",
            "\n",
            "Epoch 00008: val_loss did not improve from 0.42064\n",
            "Epoch 9/100\n",
            "1/1 [==============================] - 0s 338ms/step - loss: 0.4229 - accuracy: 0.8333 - val_loss: 1.3582 - val_accuracy: 0.3750\n",
            "\n",
            "Epoch 00009: val_accuracy did not improve from 0.75000\n",
            "\n",
            "Epoch 00009: val_loss did not improve from 0.42064\n",
            "Epoch 10/100\n",
            "1/1 [==============================] - 0s 336ms/step - loss: 0.4371 - accuracy: 0.7778 - val_loss: 1.6099 - val_accuracy: 0.3750\n",
            "\n",
            "Epoch 00010: val_accuracy did not improve from 0.75000\n",
            "\n",
            "Epoch 00010: val_loss did not improve from 0.42064\n",
            "Epoch 11/100\n",
            "1/1 [==============================] - 0s 334ms/step - loss: 0.4255 - accuracy: 0.7778 - val_loss: 1.5107 - val_accuracy: 0.5000\n",
            "\n",
            "Epoch 00011: val_accuracy did not improve from 0.75000\n",
            "\n",
            "Epoch 00011: val_loss did not improve from 0.42064\n",
            "Epoch 12/100\n",
            "1/1 [==============================] - 0s 359ms/step - loss: 0.3153 - accuracy: 0.7778 - val_loss: 1.4185 - val_accuracy: 0.3750\n",
            "\n",
            "Epoch 00012: val_accuracy did not improve from 0.75000\n",
            "\n",
            "Epoch 00012: val_loss did not improve from 0.42064\n",
            "Epoch 13/100\n",
            "1/1 [==============================] - 0s 331ms/step - loss: 0.2821 - accuracy: 0.9444 - val_loss: 1.6292 - val_accuracy: 0.2500\n",
            "\n",
            "Epoch 00013: val_accuracy did not improve from 0.75000\n",
            "\n",
            "Epoch 00013: val_loss did not improve from 0.42064\n",
            "Epoch 14/100\n",
            "1/1 [==============================] - 0s 340ms/step - loss: 0.2931 - accuracy: 0.9444 - val_loss: 1.8879 - val_accuracy: 0.3750\n",
            "\n",
            "Epoch 00014: val_accuracy did not improve from 0.75000\n",
            "\n",
            "Epoch 00014: val_loss did not improve from 0.42064\n",
            "Epoch 15/100\n",
            "1/1 [==============================] - 0s 337ms/step - loss: 0.2142 - accuracy: 0.8889 - val_loss: 2.5550 - val_accuracy: 0.3750\n",
            "\n",
            "Epoch 00015: val_accuracy did not improve from 0.75000\n",
            "\n",
            "Epoch 00015: val_loss did not improve from 0.42064\n",
            "Epoch 16/100\n",
            "1/1 [==============================] - 0s 339ms/step - loss: 0.2171 - accuracy: 0.8889 - val_loss: 3.5627 - val_accuracy: 0.3750\n",
            "\n",
            "Epoch 00016: val_accuracy did not improve from 0.75000\n",
            "\n",
            "Epoch 00016: val_loss did not improve from 0.42064\n",
            "Epoch 17/100\n",
            "1/1 [==============================] - 0s 330ms/step - loss: 0.1489 - accuracy: 0.9444 - val_loss: 4.3432 - val_accuracy: 0.3750\n",
            "\n",
            "Epoch 00017: val_accuracy did not improve from 0.75000\n",
            "\n",
            "Epoch 00017: val_loss did not improve from 0.42064\n",
            "Epoch 00017: early stopping\n"
          ]
        }
      ],
      "source": [
        "# training the model\n",
        "BATCH_SIZE=32\n",
        "\n",
        "TRAINING_SIZE = traindata.samples\n",
        "\n",
        "#VALIDATION_SIZE = testdata.samples\n",
        "num_folds=5\n",
        "import math\n",
        "# We take the ceiling because we do not drop the remainder of the batch.\n",
        "compute_steps_per_epoch = lambda x: int(math.ceil(1. * x / BATCH_SIZE))\n",
        "\n",
        "steps_per_epoch = compute_steps_per_epoch(TRAINING_SIZE)\n",
        "#val_steps = compute_steps_per_epoch(VALIDATION_SIZE)\n",
        "\n",
        "#Save model with highest validation accuracy.\n",
        "mca = ModelCheckpoint(base+\"videovalaccvgg16.h5\", monitor='val_accuracy', verbose=1, save_best_only=True, save_weights_only=False, mode='auto') \n",
        "#Save model with the lowest validation loss.\n",
        "mcl = ModelCheckpoint(base+\"videovallossvgg16.h5\", monitor='val_loss', verbose=1, save_best_only=True, save_weights_only=False, mode='auto')\n",
        "#Stop training after validation loss stops improving enough.\n",
        "es = EarlyStopping(monitor='val_loss', min_delta=1e-4, patience=10, verbose=1, mode='auto')\n",
        "cb_list=[es,mca,mcl]\n",
        "x,y=traindata.next()\n",
        "from imblearn.over_sampling import BorderlineSMOTE\n",
        "from imblearn.under_sampling import RandomUnderSampler\n",
        "from imblearn.pipeline import Pipeline\n",
        "from sklearn.tree import DecisionTreeClassifier\n",
        "from imblearn.over_sampling import ADASYN\n",
        "from imblearn.over_sampling import SVMSMOTE\n",
        "#oversample= SVMSMOTE()\n",
        "#x=x.reshape(x.shape[0],x.shape[1]*x.shape[2]*x.shape[3])\n",
        "#over = SMOTE(sampling_strategy=0.5)\n",
        "#under = RandomUnderSampler(sampling_strategy=0.5)\n",
        "#steps = [('over', over), ('under', under)]\n",
        "#pipeline = Pipeline(steps=steps)\n",
        "\n",
        "#x,y=oversample.fit_resample(x,y)\n",
        "#x,y=pipeline.fit_resample(x,y)\n",
        "from sklearn.model_selection import KFold\n",
        "kfold = KFold(n_splits=num_folds, shuffle=True)\n",
        "fold_no=1\n",
        "#x=x.reshape(x.shape[0],224,224,3)\n",
        "for train, test in kfold.split(x,y):\n",
        "  model_history = model.fit(x[train], y[train], validation_split=0.3, epochs=100, batch_size=32, callbacks=cb_list,shuffle=True)\n",
        "  fold_no+=1\n",
        "model.save(base+\"videoMcCormickModel.h5\")"
      ]
    },
    {
      "cell_type": "code",
      "execution_count": null,
      "metadata": {
        "colab": {
          "base_uri": "https://localhost:8080/"
        },
        "id": "Pj_uh7azWoPq",
        "outputId": "2f768562-7822-47a2-9277-5e056e33b045"
      },
      "outputs": [
        {
          "name": "stdout",
          "output_type": "stream",
          "text": [
            "True\n",
            "/content/drive/MyDrive/Colab Notebooks/videoMcCormickModel.h5\n"
          ]
        }
      ],
      "source": [
        "print(os.path.isfile(base+\"videoMcCormickModel.h5\"))\n",
        "\n",
        "print(base+\"videoMcCormickModel.h5\")"
      ]
    },
    {
      "cell_type": "markdown",
      "metadata": {
        "id": "FxxwnwDpPZaB"
      },
      "source": [
        "Display the accuracy, validation accuracy, and the validation loss. The loss is usually too high in the beginning to be part of a easily visualized plot."
      ]
    },
    {
      "cell_type": "code",
      "execution_count": null,
      "metadata": {
        "colab": {
          "base_uri": "https://localhost:8080/",
          "height": 295
        },
        "id": "6lrmxkZ3JP3l",
        "outputId": "86808a99-5340-4402-fd24-1ef7e3425ead"
      },
      "outputs": [
        {
          "data": {
            "image/png": "[encoded data removed]",
            "text/plain": [
              "<Figure size 432x288 with 1 Axes>"
            ]
          },
          "metadata": {
            "needs_background": "light",
            "tags": []
          },
          "output_type": "display_data"
        }
      ],
      "source": [
        "plt.plot(model_history.history[\"accuracy\"])\n",
        "plt.plot(model_history.history['val_accuracy'])\n",
        "plt.plot(model_history.history['loss'])\n",
        "plt.plot(model_history.history['val_loss'])\n",
        "plt.title(\"model accuracy\")\n",
        "plt.ylabel(\"Accuracy\")\n",
        "plt.xlabel(\"Epoch\")\n",
        "plt.legend([\"Accuracy\",\"Validation Accuracy\",\"loss\",\"Validation Loss\"])\n",
        "plt.show()"
      ]
    },
    {
      "cell_type": "markdown",
      "metadata": {
        "id": "CKm-_Ln4PZaC"
      },
      "source": [
        "# Metrics of the trained models"
      ]
    },
    {
      "cell_type": "markdown",
      "metadata": {
        "id": "eh2Q5whJPZaC"
      },
      "source": [
        "This next session is used to measure the performance of the trained models. Start from the cells below if you only want to see the results of previously trained models."
      ]
    },
    {
      "cell_type": "markdown",
      "metadata": {
        "id": "F6YO2zmlPZaC"
      },
      "source": [
        "Define the three models trained to measure their metrics."
      ]
    },
    {
      "cell_type": "code",
      "execution_count": null,
      "metadata": {
        "id": "2dC0RWCnrtXr"
      },
      "outputs": [],
      "source": [
        "saved_model = load_model(base+\"videovalaccvgg16.h5\")\n",
        "saved_loss_model=load_model(base+\"videovallossvgg16.h5\")\n",
        "\n",
        "#Uncomment the line below if you're only interested in making predictions with previously trained models.\n",
        "#model=load_model(base+\"videoMcCormickModel.h5\")"
      ]
    },
    {
      "cell_type": "markdown",
      "metadata": {
        "id": "OXS2d1GPPZaC"
      },
      "source": [
        "## ROC Curve"
      ]
    },
    {
      "cell_type": "markdown",
      "metadata": {
        "id": "zlpY7FZ3PZaD"
      },
      "source": [
        "Measure the true positive and true negative rate of the EarlyStopping model and choose the optimal threshold to make predictions. I chose to use the ROC curve for each of the different models as the threshold for later predictions."
      ]
    },
    {
      "cell_type": "code",
      "execution_count": null,
      "metadata": {
        "colab": {
          "base_uri": "https://localhost:8080/",
          "height": 296
        },
        "id": "wZAvYXx9W6tX",
        "outputId": "9e2d2478-ab93-47af-e2a4-45ad6535cabc"
      },
      "outputs": [
        {
          "name": "stdout",
          "output_type": "stream",
          "text": [
            "Best Threshold=0.927147, G-Mean=0.594\n"
          ]
        },
        {
          "data": {
            "image/png": "[encoded data removed]",
            "text/plain": [
              "<Figure size 432x288 with 1 Axes>"
            ]
          },
          "metadata": {
            "needs_background": "light",
            "tags": []
          },
          "output_type": "display_data"
        }
      ],
      "source": [
        "from numpy import argmax\n",
        "from numpy import sqrt\n",
        "from sklearn.metrics import precision_recall_curve\n",
        "from matplotlib import pyplot\n",
        "from sklearn.preprocessing import label_binarize\n",
        "from sklearn.metrics import roc_curve\n",
        "# predict probabilities\n",
        "testX,testy=next(traindata)\n",
        "yhat = model.predict(testX)\n",
        "# keep probabilities for the positive outcome only\n",
        "yhat = yhat[:, 1]\n",
        "# calculate roc curves\n",
        "Y=label_binarize(testy, classes=[0,1])\n",
        "Y=Y[:,1]\n",
        "# keep probabilities for the positive outcome only\n",
        "# calculate roc curves\n",
        "fpr, tpr, thresholds = roc_curve(Y, yhat)\n",
        "# calculate the g-mean for each threshold\n",
        "gmeans = sqrt(tpr * (1-fpr))\n",
        "# locate the index of the largest g-mean\n",
        "ix = argmax(gmeans)\n",
        "print('Best Threshold=%f, G-Mean=%.3f' % (thresholds[ix], gmeans[ix]))\n",
        "# plot the roc curve for the model\n",
        "pyplot.plot([0,1], [0,1], linestyle='--', label='No Skill')\n",
        "pyplot.plot(fpr, tpr, marker='.', label='Logistic')\n",
        "pyplot.scatter(fpr[ix], tpr[ix], marker='o', color='black', label='Best')\n",
        "# axis labels\n",
        "pyplot.xlabel('False Positive Rate')\n",
        "pyplot.ylabel('True Positive Rate')\n",
        "pyplot.legend()\n",
        "# show the plot\n",
        "pyplot.show()\n",
        "threshold=thresholds[ix]"
      ]
    },
    {
      "cell_type": "markdown",
      "metadata": {
        "id": "3W0oO01RPZaD"
      },
      "source": [
        "## Precision-Recall Curve"
      ]
    },
    {
      "cell_type": "markdown",
      "metadata": {
        "id": "OmsuzH3zPZaD"
      },
      "source": [
        "Measure the precision of the EarlyStopping model and choose the optimal threshold to make predictions. This precision-recall threshold is not used in future steps, but it may be better suited for other models."
      ]
    },
    {
      "cell_type": "code",
      "execution_count": null,
      "metadata": {
        "colab": {
          "base_uri": "https://localhost:8080/",
          "height": 296
        },
        "id": "lwD1JohZti7-",
        "outputId": "fdb45d53-dc13-4153-8c4f-8b00ce437f2d"
      },
      "outputs": [
        {
          "name": "stdout",
          "output_type": "stream",
          "text": [
            "Best Threshold=0.000000, F-Score=0.652\n"
          ]
        },
        {
          "data": {
            "image/png": "[encoded data removed]",
            "text/plain": [
              "<Figure size 432x288 with 1 Axes>"
            ]
          },
          "metadata": {
            "needs_background": "light",
            "tags": []
          },
          "output_type": "display_data"
        }
      ],
      "source": [
        "\n",
        "# optimal threshold for precision-recall curve with logistic regression model\n",
        "\n",
        "\n",
        "precision, recall, thresholds = precision_recall_curve(Y, yhat)\n",
        "# convert to f score\n",
        "fscore = (2 * precision * recall) / (precision + recall)\n",
        "# locate the index of the largest f score\n",
        "ix = argmax(fscore)\n",
        "print('Best Threshold=%f, F-Score=%.3f' % (thresholds[ix], fscore[ix]))\n",
        "# plot the roc curve for the model\n",
        "no_skill = len(testy[testy==1]) / len(testy)\n",
        "pyplot.plot([0,1], [no_skill,no_skill], linestyle='--', label='No Skill')\n",
        "pyplot.plot(recall, precision, marker='.', label='Logistic')\n",
        "pyplot.scatter(recall[ix], precision[ix], marker='o', color='black', label='Best')\n",
        "# axis labels\n",
        "pyplot.xlabel('Recall')\n",
        "pyplot.ylabel('Precision')\n",
        "pyplot.legend()\n",
        "# show the plot\n",
        "pyplot.show()\n",
        "#threshold=thresholds[ix]\n",
        "#threshold=0.5"
      ]
    },
    {
      "cell_type": "markdown",
      "metadata": {
        "id": "yN9KMUwLPZaE"
      },
      "source": [
        "## Calculate F1 Score"
      ]
    },
    {
      "cell_type": "markdown",
      "metadata": {
        "id": "EN6tw5QCPZaE"
      },
      "source": [
        "Calculate the F1 score for the EarlyStopping model. This F1 score threshold is not used in future steps, but it may be better suited for other models."
      ]
    },
    {
      "cell_type": "code",
      "execution_count": null,
      "metadata": {
        "colab": {
          "base_uri": "https://localhost:8080/"
        },
        "id": "9ghwLtYHWPTh",
        "outputId": "070c5a02-d2db-4f23-ea14-05f288051c7d"
      },
      "outputs": [
        {
          "name": "stdout",
          "output_type": "stream",
          "text": [
            "Threshold=0.000, F-Score=0.63830\n"
          ]
        }
      ],
      "source": [
        "# search thresholds for imbalanced classification\n",
        "from numpy import arange\n",
        "from numpy import argmax\n",
        "from sklearn.datasets import make_classification\n",
        "from sklearn.linear_model import LogisticRegression\n",
        "from sklearn.model_selection import train_test_split\n",
        "from sklearn.metrics import f1_score\n",
        "\n",
        "# apply threshold to positive probabilities to create labels\n",
        "def to_labels(pos_probs, threshold):\n",
        "\treturn (pos_probs >= threshold).astype('int')\n",
        "\n",
        "# keep probabilities for the positive outcome only\n",
        "# define thresholds\n",
        "thresholds = arange(0, 1, 0.001)\n",
        "# evaluate each threshold\n",
        "scores = [f1_score(Y, to_labels(yhat, t)) for t in thresholds]\n",
        "# get best threshold\n",
        "ix = argmax(scores)\n",
        "print('Threshold=%.3f, F-Score=%.5f' % (thresholds[ix], scores[ix]))\n"
      ]
    },
    {
      "cell_type": "markdown",
      "metadata": {
        "id": "hJuey7FaPZaF"
      },
      "source": [
        "Repeat the three above measurements for the model with the highest validation accuracy..."
      ]
    },
    {
      "cell_type": "code",
      "execution_count": null,
      "metadata": {
        "colab": {
          "base_uri": "https://localhost:8080/",
          "height": 296
        },
        "id": "sKHIqUqVx6HW",
        "outputId": "896b7914-6423-4605-b70d-9e6439c44dbb"
      },
      "outputs": [
        {
          "name": "stdout",
          "output_type": "stream",
          "text": [
            "Best Threshold=0.263158, G-Mean=0.524\n"
          ]
        },
        {
          "data": {
            "image/png": "[encoded data removed]",
            "text/plain": [
              "<Figure size 432x288 with 1 Axes>"
            ]
          },
          "metadata": {
            "needs_background": "light",
            "tags": []
          },
          "output_type": "display_data"
        }
      ],
      "source": [
        "from numpy import argmax\n",
        "from numpy import sqrt\n",
        "from sklearn.datasets import make_classification\n",
        "from sklearn.linear_model import LogisticRegression\n",
        "from sklearn.model_selection import train_test_split\n",
        "from sklearn.metrics import precision_recall_curve\n",
        "from matplotlib import pyplot\n",
        "from sklearn.preprocessing import label_binarize\n",
        "from sklearn.metrics import roc_curve\n",
        "# predict probabilities\n",
        "yhat = saved_model.predict(testX)\n",
        "# keep probabilities for the positive outcome only\n",
        "yhat = yhat[:, 1]\n",
        "# calculate roc curves\n",
        "# keep probabilities for the positive outcome only\n",
        "# calculate roc curves\n",
        "fpr, tpr, thresholds = roc_curve(Y, yhat)\n",
        "# calculate the g-mean for each threshold\n",
        "gmeans = sqrt(tpr * (1-fpr))\n",
        "# locate the index of the largest g-mean\n",
        "ix = argmax(gmeans)\n",
        "print('Best Threshold=%f, G-Mean=%.3f' % (thresholds[ix], gmeans[ix]))\n",
        "# plot the roc curve for the model\n",
        "pyplot.plot([0,1], [0,1], linestyle='--', label='No Skill')\n",
        "pyplot.plot(fpr, tpr, marker='.', label='Logistic')\n",
        "pyplot.scatter(fpr[ix], tpr[ix], marker='o', color='black', label='Best')\n",
        "# axis labels\n",
        "pyplot.xlabel('False Positive Rate')\n",
        "pyplot.ylabel('True Positive Rate')\n",
        "pyplot.legend()\n",
        "# show the plot\n",
        "pyplot.show()\n",
        "threshold_saved=thresholds[ix]"
      ]
    },
    {
      "cell_type": "code",
      "execution_count": null,
      "metadata": {
        "colab": {
          "base_uri": "https://localhost:8080/",
          "height": 296
        },
        "id": "ZUoYxFV2x6Hg",
        "outputId": "a772c547-e960-4fa3-a946-0dfa840428de"
      },
      "outputs": [
        {
          "name": "stdout",
          "output_type": "stream",
          "text": [
            "Best Threshold=0.999136, F-Score=nan\n"
          ]
        },
        {
          "data": {
            "image/png": "[encoded data removed]",
            "text/plain": [
              "<Figure size 432x288 with 1 Axes>"
            ]
          },
          "metadata": {
            "needs_background": "light",
            "tags": []
          },
          "output_type": "display_data"
        }
      ],
      "source": [
        "\n",
        "# optimal threshold for precision-recall curve with logistic regression model\n",
        "\n",
        "\n",
        "precision, recall, thresholds = precision_recall_curve(Y, yhat)\n",
        "# convert to f score\n",
        "fscore = (2 * precision * recall) / (precision + recall)\n",
        "# locate the index of the largest f score\n",
        "ix = argmax(fscore)\n",
        "print('Best Threshold=%f, F-Score=%.3f' % (thresholds[ix], fscore[ix]))\n",
        "# plot the roc curve for the model\n",
        "no_skill = len(testy[testy==1]) / len(testy)\n",
        "pyplot.plot([0,1], [no_skill,no_skill], linestyle='--', label='No Skill')\n",
        "pyplot.plot(recall, precision, marker='.', label='Logistic')\n",
        "pyplot.scatter(recall[ix], precision[ix], marker='o', color='black', label='Best')\n",
        "# axis labels\n",
        "pyplot.xlabel('Recall')\n",
        "pyplot.ylabel('Precision')\n",
        "pyplot.legend()\n",
        "# show the plot\n",
        "pyplot.show()\n",
        "#threshold_saved=thresholds[ix]\n",
        "#threshold=0.5"
      ]
    },
    {
      "cell_type": "code",
      "execution_count": null,
      "metadata": {
        "colab": {
          "base_uri": "https://localhost:8080/"
        },
        "id": "t-f8imp9x6Hg",
        "outputId": "ed07bb5d-6368-43f8-9d58-834498968707"
      },
      "outputs": [
        {
          "name": "stdout",
          "output_type": "stream",
          "text": [
            "Threshold=0.000, F-Score=0.63830\n"
          ]
        }
      ],
      "source": [
        "# search thresholds for imbalanced classification\n",
        "from numpy import arange\n",
        "from numpy import argmax\n",
        "from sklearn.datasets import make_classification\n",
        "from sklearn.linear_model import LogisticRegression\n",
        "from sklearn.model_selection import train_test_split\n",
        "from sklearn.metrics import f1_score\n",
        "\n",
        "# apply threshold to positive probabilities to create labels\n",
        "def to_labels(pos_probs, threshold):\n",
        "\treturn (pos_probs >= threshold).astype('int')\n",
        "\n",
        "# keep probabilities for the positive outcome only\n",
        "# define thresholds\n",
        "thresholds = arange(0, 1, 0.001)\n",
        "# evaluate each threshold\n",
        "scores = [f1_score(Y, to_labels(yhat, t)) for t in thresholds]\n",
        "# get best threshold\n",
        "ix = argmax(scores)\n",
        "print('Threshold=%.3f, F-Score=%.5f' % (thresholds[ix], scores[ix]))"
      ]
    },
    {
      "cell_type": "markdown",
      "metadata": {
        "id": "xLbAWOlXPZaG"
      },
      "source": [
        "...and for the model with the lowest validation loss."
      ]
    },
    {
      "cell_type": "code",
      "execution_count": null,
      "metadata": {
        "colab": {
          "base_uri": "https://localhost:8080/",
          "height": 296
        },
        "id": "zH4OtR6uytC5",
        "outputId": "8db1f132-e8d3-4b96-99f6-26e916536699"
      },
      "outputs": [
        {
          "name": "stdout",
          "output_type": "stream",
          "text": [
            "Best Threshold=0.044456, G-Mean=0.531\n"
          ]
        },
        {
          "data": {
            "image/png": "[encoded data removed]",
            "text/plain": [
              "<Figure size 432x288 with 1 Axes>"
            ]
          },
          "metadata": {
            "needs_background": "light",
            "tags": []
          },
          "output_type": "display_data"
        }
      ],
      "source": [
        "from numpy import argmax\n",
        "from numpy import sqrt\n",
        "from sklearn.datasets import make_classification\n",
        "from sklearn.linear_model import LogisticRegression\n",
        "from sklearn.model_selection import train_test_split\n",
        "from sklearn.metrics import precision_recall_curve\n",
        "from matplotlib import pyplot\n",
        "from sklearn.preprocessing import label_binarize\n",
        "from sklearn.metrics import roc_curve\n",
        "# predict probabilities\n",
        "yhat = saved_loss_model.predict(testX)\n",
        "# keep probabilities for the positive outcome only\n",
        "yhat = yhat[:, 1]\n",
        "# calculate roc curves\n",
        "# keep probabilities for the positive outcome only\n",
        "# calculate roc curves\n",
        "fpr, tpr, thresholds = roc_curve(Y, yhat)\n",
        "# calculate the g-mean for each threshold\n",
        "gmeans = sqrt(tpr * (1-fpr))\n",
        "# locate the index of the largest g-mean\n",
        "ix = argmax(gmeans)\n",
        "print('Best Threshold=%f, G-Mean=%.3f' % (thresholds[ix], gmeans[ix]))\n",
        "# plot the roc curve for the model\n",
        "pyplot.plot([0,1], [0,1], linestyle='--', label='No Skill')\n",
        "pyplot.plot(fpr, tpr, marker='.', label='Logistic')\n",
        "pyplot.scatter(fpr[ix], tpr[ix], marker='o', color='black', label='Best')\n",
        "# axis labels\n",
        "pyplot.xlabel('False Positive Rate')\n",
        "pyplot.ylabel('True Positive Rate')\n",
        "pyplot.legend()\n",
        "# show the plot\n",
        "pyplot.show()\n",
        "threshold_loss=thresholds[ix]"
      ]
    },
    {
      "cell_type": "code",
      "execution_count": null,
      "metadata": {
        "colab": {
          "base_uri": "https://localhost:8080/",
          "height": 296
        },
        "id": "vJGpsKE-ytC6",
        "outputId": "59389a3f-0903-488c-f8a6-5c56398ede45"
      },
      "outputs": [
        {
          "name": "stdout",
          "output_type": "stream",
          "text": [
            "Best Threshold=0.999992, F-Score=nan\n"
          ]
        },
        {
          "data": {
            "image/png": "[encoded data removed]",
            "text/plain": [
              "<Figure size 432x288 with 1 Axes>"
            ]
          },
          "metadata": {
            "needs_background": "light",
            "tags": []
          },
          "output_type": "display_data"
        }
      ],
      "source": [
        "\n",
        "# optimal threshold for precision-recall curve with logistic regression model\n",
        "\n",
        "\n",
        "precision, recall, thresholds = precision_recall_curve(Y, yhat)\n",
        "# convert to f score\n",
        "fscore = (2 * precision * recall) / (precision + recall)\n",
        "# locate the index of the largest f score\n",
        "ix = argmax(fscore)\n",
        "print('Best Threshold=%f, F-Score=%.3f' % (thresholds[ix], fscore[ix]))\n",
        "# plot the roc curve for the model\n",
        "no_skill = len(testy[testy==1]) / len(testy)\n",
        "pyplot.plot([0,1], [no_skill,no_skill], linestyle='--', label='No Skill')\n",
        "pyplot.plot(recall, precision, marker='.', label='Logistic')\n",
        "pyplot.scatter(recall[ix], precision[ix], marker='o', color='black', label='Best')\n",
        "# axis labels\n",
        "pyplot.xlabel('Recall')\n",
        "pyplot.ylabel('Precision')\n",
        "pyplot.legend()\n",
        "# show the plot\n",
        "pyplot.show()\n",
        "#threshold=thresholds[ix]\n",
        "#threshold=0.5\n",
        "#threshold_loss=thresholds[ix]"
      ]
    },
    {
      "cell_type": "code",
      "execution_count": null,
      "metadata": {
        "colab": {
          "base_uri": "https://localhost:8080/"
        },
        "id": "ye5KmiExytC6",
        "outputId": "c9e3e426-06d8-499e-9e5f-0511a2404635"
      },
      "outputs": [
        {
          "name": "stdout",
          "output_type": "stream",
          "text": [
            "Threshold=0.002, F-Score=0.65116\n"
          ]
        }
      ],
      "source": [
        "# search thresholds for imbalanced classification\n",
        "from numpy import arange\n",
        "from numpy import argmax\n",
        "from sklearn.datasets import make_classification\n",
        "from sklearn.linear_model import LogisticRegression\n",
        "from sklearn.model_selection import train_test_split\n",
        "from sklearn.metrics import f1_score\n",
        "\n",
        "# apply threshold to positive probabilities to create labels\n",
        "def to_labels(pos_probs, threshold):\n",
        "\treturn (pos_probs >= threshold).astype('int')\n",
        "\n",
        "# keep probabilities for the positive outcome only\n",
        "# define thresholds\n",
        "thresholds = arange(0, 1, 0.001)\n",
        "# evaluate each threshold\n",
        "scores = [f1_score(Y, to_labels(yhat, t)) for t in thresholds]\n",
        "# get best threshold\n",
        "ix = argmax(scores)\n",
        "print('Threshold=%.3f, F-Score=%.5f' % (thresholds[ix], scores[ix]))"
      ]
    },
    {
      "cell_type": "code",
      "execution_count": null,
      "metadata": {
        "id": "4uDIiHQpy71D"
      },
      "outputs": [],
      "source": [
        "#Choose a manual threshold if desired\n",
        "#threshold=.5"
      ]
    },
    {
      "cell_type": "markdown",
      "metadata": {
        "id": "2hHz5X9qPZaH"
      },
      "source": [
        "## Single Predictions"
      ]
    },
    {
      "cell_type": "markdown",
      "metadata": {
        "id": "lHY3uW_7PZaI"
      },
      "source": [
        "Observe how the three models predict and their confidence. The rightmost number indicates the confidence that the picture is of class 1, the leftmost number indicates the confidence is of class 0."
      ]
    },
    {
      "cell_type": "code",
      "execution_count": null,
      "metadata": {
        "colab": {
          "base_uri": "https://localhost:8080/",
          "height": 302
        },
        "id": "G9ohhRd1iY9V",
        "outputId": "c0d2fa8a-61b8-44a1-ec14-dc3f4cec2f0a"
      },
      "outputs": [
        {
          "name": "stdout",
          "output_type": "stream",
          "text": [
            "Damaged\n",
            "[[1.0000000e+00 3.4373575e-15]]\n"
          ]
        },
        {
          "data": {
            "image/png": "[encoded data removed]",
            "text/plain": [
              "<Figure size 432x288 with 1 Axes>"
            ]
          },
          "metadata": {
            "needs_background": "light",
            "tags": []
          },
          "output_type": "display_data"
        }
      ],
      "source": [
        "img = image.load_img(base+\"20210625_093141.jpg\",target_size=(224,224))\n",
        "img = np.asarray(img)\n",
        "plt.imshow(img)\n",
        "img = np.expand_dims(img, axis=0)\n",
        "output = model.predict(img)\n",
        "if output[0][1]<threshold:\n",
        "    print(\"Damaged\")\n",
        "else:\n",
        "    print('Nice')\n",
        "print(output)"
      ]
    },
    {
      "cell_type": "code",
      "execution_count": null,
      "metadata": {
        "colab": {
          "base_uri": "https://localhost:8080/"
        },
        "id": "jbryRUJp4QAT",
        "outputId": "5a0aea26-f428-40bd-b955-3a67d7f0ed7e"
      },
      "outputs": [
        {
          "name": "stdout",
          "output_type": "stream",
          "text": [
            "Damaged\n",
            "[[0.9802303  0.01976966]]\n"
          ]
        }
      ],
      "source": [
        "output = saved_model.predict(img)\n",
        "if  output[0][1]<threshold_saved:\n",
        "    print(\"Damaged\")\n",
        "else:\n",
        "    print('Nice')\n",
        "print(output)"
      ]
    },
    {
      "cell_type": "code",
      "execution_count": null,
      "metadata": {
        "colab": {
          "base_uri": "https://localhost:8080/"
        },
        "id": "v97td7zW4PP_",
        "outputId": "c61da904-4bb0-4aa1-b84b-534bf89cba84"
      },
      "outputs": [
        {
          "name": "stdout",
          "output_type": "stream",
          "text": [
            "Damaged\n",
            "[[0.9981371  0.00186287]]\n"
          ]
        }
      ],
      "source": [
        "output = saved_loss_model.predict(img)\n",
        "if  output[0][1]<threshold_loss:\n",
        "    print(\"Damaged\")\n",
        "else:\n",
        "    print('Nice')\n",
        "print(output)"
      ]
    },
    {
      "cell_type": "code",
      "execution_count": null,
      "metadata": {
        "colab": {
          "base_uri": "https://localhost:8080/",
          "height": 302
        },
        "id": "5oim1YnByswm",
        "outputId": "5aafe1bf-3794-47ad-fb02-e1f36e5ecf72"
      },
      "outputs": [
        {
          "name": "stdout",
          "output_type": "stream",
          "text": [
            "Damaged\n",
            "[[0.99874026 0.00125977]]\n"
          ]
        },
        {
          "data": {
            "image/png": "[encoded data removed]",
            "text/plain": [
              "<Figure size 432x288 with 1 Axes>"
            ]
          },
          "metadata": {
            "needs_background": "light",
            "tags": []
          },
          "output_type": "display_data"
        }
      ],
      "source": [
        "img = image.load_img(base+\"20210624_154904.jpg\",target_size=(224,224))\n",
        "img = np.asarray(img)\n",
        "plt.imshow(img)\n",
        "img = np.expand_dims(img, axis=0)\n",
        "output = model.predict(img)\n",
        "if  output[0][1]<threshold:\n",
        "    print(\"Damaged\")\n",
        "else:\n",
        "    print('Nice')\n",
        "print(output)"
      ]
    },
    {
      "cell_type": "code",
      "execution_count": null,
      "metadata": {
        "colab": {
          "base_uri": "https://localhost:8080/"
        },
        "id": "UPrbSpAB4YOd",
        "outputId": "28d4108a-f714-4880-f607-dbb6288a13c6"
      },
      "outputs": [
        {
          "name": "stdout",
          "output_type": "stream",
          "text": [
            "Nice\n",
            "[[0.11402176 0.88597816]]\n"
          ]
        }
      ],
      "source": [
        "output = saved_model.predict(img)\n",
        "if  output[0][1]<threshold_saved:\n",
        "    print(\"Damaged\")\n",
        "else:\n",
        "    print('Nice')\n",
        "print(output)"
      ]
    },
    {
      "cell_type": "code",
      "execution_count": null,
      "metadata": {
        "colab": {
          "base_uri": "https://localhost:8080/"
        },
        "id": "EgXrUT_M4cR6",
        "outputId": "6830e6d9-6187-4283-8b8a-915a1d1d58a4"
      },
      "outputs": [
        {
          "name": "stdout",
          "output_type": "stream",
          "text": [
            "Nice\n",
            "[[0.02394039 0.9760597 ]]\n"
          ]
        }
      ],
      "source": [
        "output = saved_loss_model.predict(img)\n",
        "if  output[0][1]<threshold_loss:\n",
        "    print(\"Damaged\")\n",
        "else:\n",
        "    print('Nice')\n",
        "print(output)"
      ]
    },
    {
      "cell_type": "code",
      "execution_count": null,
      "metadata": {
        "colab": {
          "base_uri": "https://localhost:8080/",
          "height": 302
        },
        "id": "mFMGPm1M4-hX",
        "outputId": "f1b21b24-1bf6-4897-fe68-b4898dd8ee27"
      },
      "outputs": [
        {
          "name": "stdout",
          "output_type": "stream",
          "text": [
            "Damaged\n",
            "[[1.0000000e+00 3.4373575e-15]]\n"
          ]
        },
        {
          "data": {
            "image/png": "[encoded data removed]",
            "text/plain": [
              "<Figure size 432x288 with 1 Axes>"
            ]
          },
          "metadata": {
            "needs_background": "light",
            "tags": []
          },
          "output_type": "display_data"
        }
      ],
      "source": [
        "img = image.load_img(base+\"20210625_093141.jpg\",target_size=(224,224))\n",
        "img = np.asarray(img)\n",
        "plt.imshow(img)\n",
        "img = np.expand_dims(img, axis=0)\n",
        "output = model.predict(img)\n",
        "if  output[0][1]<threshold:\n",
        "    print(\"Damaged\")\n",
        "else:\n",
        "    print('Nice')\n",
        "print(output)"
      ]
    },
    {
      "cell_type": "code",
      "execution_count": null,
      "metadata": {
        "colab": {
          "base_uri": "https://localhost:8080/"
        },
        "id": "SeDAxKDc4-ha",
        "outputId": "182a96ef-5890-4e9a-f10f-95779e1a6797"
      },
      "outputs": [
        {
          "name": "stdout",
          "output_type": "stream",
          "text": [
            "Damaged\n",
            "[[0.9802303  0.01976966]]\n"
          ]
        }
      ],
      "source": [
        "output = saved_model.predict(img)\n",
        "if  output[0][1]<threshold_saved:\n",
        "    print(\"Damaged\")\n",
        "else:\n",
        "    print('Nice')\n",
        "print(output)"
      ]
    },
    {
      "cell_type": "code",
      "execution_count": null,
      "metadata": {
        "colab": {
          "base_uri": "https://localhost:8080/"
        },
        "id": "2pfgUWSL4-hb",
        "outputId": "fc1146d5-05e4-43fb-ab95-af033c3b7bfa"
      },
      "outputs": [
        {
          "name": "stdout",
          "output_type": "stream",
          "text": [
            "Damaged\n",
            "[[0.9981371  0.00186287]]\n"
          ]
        }
      ],
      "source": [
        "output = saved_loss_model.predict(img)\n",
        "if  output[0][1]<threshold_loss:\n",
        "    print(\"Damaged\")\n",
        "else:\n",
        "    print('Nice')\n",
        "print(output)"
      ]
    },
    {
      "cell_type": "markdown",
      "metadata": {
        "id": "3x1dO1DVPZaK"
      },
      "source": [
        "## Multiple Predictions"
      ]
    },
    {
      "cell_type": "markdown",
      "metadata": {
        "id": "c0pG4DhhPZaK"
      },
      "source": [
        "Open up test files to observe how the model predicts images that it has not seen before."
      ]
    },
    {
      "cell_type": "code",
      "execution_count": null,
      "metadata": {
        "id": "-Ee_TfgsjbNI"
      },
      "outputs": [],
      "source": [
        "filename=[]\n",
        "#Open up TestMcCormickBottles directory and extract all file names in the subdirectories\n",
        "directory=base+'TestMcCormickBottles'\n",
        "for dirname, blah, filenames in os.walk(directory):\n",
        "    if filenames!=[]:\n",
        "      filename.extend(filenames)\n",
        "#print(len(filename))\n",
        "#print(filename)\n",
        "#write a csv file with the image_names field filled with the file names from the filename variable\n",
        "csvname=base+'McCormickBottles.csv'\n",
        "if os.path.isfile(csvname)==True:\n",
        "  os.remove(csvname)\n",
        "with open(csvname,'w') as csvfile:\n",
        "  csvwriter=csv.writer(csvfile)\n",
        "  csvwriter.writerow(['image_names'])\n",
        "  for a in range(len(filename)):\n",
        "    csvwriter.writerow([filename[a]])\n",
        "\n"
      ]
    },
    {
      "cell_type": "code",
      "execution_count": null,
      "metadata": {
        "colab": {
          "base_uri": "https://localhost:8080/",
          "height": 402
        },
        "id": "-_0wQ4PFJP3n",
        "outputId": "5cdf9949-7f9b-4671-89ea-5b6aeae7bf30"
      },
      "outputs": [
        {
          "data": {
            "text/html": [
              "<div>\n",
              "<style scoped>\n",
              "    .dataframe tbody tr th:only-of-type {\n",
              "        vertical-align: middle;\n",
              "    }\n",
              "\n",
              "    .dataframe tbody tr th {\n",
              "        vertical-align: top;\n",
              "    }\n",
              "\n",
              "    .dataframe thead th {\n",
              "        text-align: right;\n",
              "    }\n",
              "</style>\n",
              "<table border=\"1\" class=\"dataframe\">\n",
              "  <thead>\n",
              "    <tr style=\"text-align: right;\">\n",
              "      <th></th>\n",
              "      <th>image_names</th>\n",
              "    </tr>\n",
              "  </thead>\n",
              "  <tbody>\n",
              "    <tr>\n",
              "      <th>0</th>\n",
              "      <td>spicelabelbraille-scaled.jpg</td>\n",
              "    </tr>\n",
              "    <tr>\n",
              "      <th>1</th>\n",
              "      <td>20210620_191814.jpg</td>\n",
              "    </tr>\n",
              "    <tr>\n",
              "      <th>2</th>\n",
              "      <td>20210620_191900.jpg</td>\n",
              "    </tr>\n",
              "    <tr>\n",
              "      <th>3</th>\n",
              "      <td>20210620_191903.jpg</td>\n",
              "    </tr>\n",
              "    <tr>\n",
              "      <th>4</th>\n",
              "      <td>20210620_191905.jpg</td>\n",
              "    </tr>\n",
              "    <tr>\n",
              "      <th>5</th>\n",
              "      <td>20210620_191908.jpg</td>\n",
              "    </tr>\n",
              "    <tr>\n",
              "      <th>6</th>\n",
              "      <td>20210620_191911.jpg</td>\n",
              "    </tr>\n",
              "    <tr>\n",
              "      <th>7</th>\n",
              "      <td>20210620_191919.jpg</td>\n",
              "    </tr>\n",
              "    <tr>\n",
              "      <th>8</th>\n",
              "      <td>20210620_191929.jpg</td>\n",
              "    </tr>\n",
              "    <tr>\n",
              "      <th>9</th>\n",
              "      <td>20210620_191952.jpg</td>\n",
              "    </tr>\n",
              "    <tr>\n",
              "      <th>10</th>\n",
              "      <td>20210620_192006.jpg</td>\n",
              "    </tr>\n",
              "    <tr>\n",
              "      <th>11</th>\n",
              "      <td>20210620_192016.jpg</td>\n",
              "    </tr>\n",
              "  </tbody>\n",
              "</table>\n",
              "</div>"
            ],
            "text/plain": [
              "                     image_names\n",
              "0   spicelabelbraille-scaled.jpg\n",
              "1            20210620_191814.jpg\n",
              "2            20210620_191900.jpg\n",
              "3            20210620_191903.jpg\n",
              "4            20210620_191905.jpg\n",
              "5            20210620_191908.jpg\n",
              "6            20210620_191911.jpg\n",
              "7            20210620_191919.jpg\n",
              "8            20210620_191929.jpg\n",
              "9            20210620_191952.jpg\n",
              "10           20210620_192006.jpg\n",
              "11           20210620_192016.jpg"
            ]
          },
          "execution_count": 217,
          "metadata": {
            "tags": []
          },
          "output_type": "execute_result"
        }
      ],
      "source": [
        "#Names of the test data pictures\n",
        "test_set = pd.read_csv(csvname)\n",
        "test_set"
      ]
    },
    {
      "cell_type": "code",
      "execution_count": null,
      "metadata": {
        "colab": {
          "base_uri": "https://localhost:8080/"
        },
        "id": "dxmudP-gIvy7",
        "outputId": "149bef81-e0a6-45c3-fda0-c428c14c08d0"
      },
      "outputs": [
        {
          "name": "stdout",
          "output_type": "stream",
          "text": [
            "[['Actual'], ['Nice'], ['Nice'], ['Nice'], ['Nice'], ['Nice'], ['Nice'], ['Nice'], ['Damaged'], ['Damaged'], ['Damaged'], ['Damaged'], ['Damaged']]\n",
            "[1, 1, 1, 1, 1, 1, 1, 0, 0, 0, 0, 0]\n"
          ]
        }
      ],
      "source": [
        "#Actual classes based off of human observation\n",
        "actual_set = pd.read_csv(base+\"ActualMcCormickClassification.csv\")\n",
        "actual_set\n",
        "actual_set_num=[]\n",
        "with open(base+'ActualMcCormickClassification.csv', newline='') as f:\n",
        "    reader = csv.reader(f)\n",
        "    data = list(reader)\n",
        "print(data)\n",
        "#print(len(data))\n",
        "for i in range(1,len(data)):\n",
        "  if data[i]==['Damaged']:\n",
        "    actual_set_num.append(0)\n",
        "  else:\n",
        "    actual_set_num.append(1)\n",
        "print(actual_set_num)\n",
        "#print(data[10])"
      ]
    },
    {
      "cell_type": "code",
      "execution_count": null,
      "metadata": {
        "colab": {
          "base_uri": "https://localhost:8080/"
        },
        "id": "pzyTdUZluUbi",
        "outputId": "b12b8b4c-78b8-4c9a-bc8b-f00e2f0f1d7c"
      },
      "outputs": [
        {
          "name": "stdout",
          "output_type": "stream",
          "text": [
            "12\n"
          ]
        }
      ],
      "source": [
        "#Function to create a list of file and sub directories for the test data\n",
        "def getListOfFiles(dirName):\n",
        "    # create a list of file and sub directories \n",
        "    # names in the given directory \n",
        "    listOfFile = os.listdir(dirName)\n",
        "    allFiles = list()\n",
        "    # Iterate over all the entries\n",
        "    for entry in listOfFile:\n",
        "        # Create full path\n",
        "        fullPath = os.path.join(dirName, entry)\n",
        "        # If entry is a directory then get the list of files in this directory \n",
        "        if os.path.isdir(fullPath):\n",
        "            allFiles = allFiles + getListOfFiles(fullPath)\n",
        "        else:\n",
        "            allFiles.append(fullPath)\n",
        "                \n",
        "    return allFiles \n",
        "AllFiles=[]\n",
        "AllFiles = getListOfFiles(directory)\n",
        "print(len(AllFiles))"
      ]
    },
    {
      "cell_type": "code",
      "execution_count": null,
      "metadata": {
        "colab": {
          "base_uri": "https://localhost:8080/"
        },
        "id": "IT_PNEYjJP3n",
        "outputId": "f2620fea-e64f-46f2-8436-2981ad0f658e"
      },
      "outputs": [
        {
          "name": "stdout",
          "output_type": "stream",
          "text": [
            "['Nice', 'Damaged', 'Damaged', 'Damaged', 'Damaged', 'Damaged', 'Damaged', 'Damaged', 'Damaged', 'Nice', 'Damaged', 'Damaged']\n"
          ]
        }
      ],
      "source": [
        "# load images and store it in numpy array\n",
        "# empty list to store the images\n",
        "predictions=[]\n",
        "fulloutput=[]\n",
        "# iterating over each image\n",
        "#for i in range(100):\n",
        "for i in range(len(AllFiles)):\n",
        "    #count += 1\n",
        "    # loading the image using its name\n",
        "    img = image.load_img(AllFiles[i],target_size=(224,224))\n",
        "    img = np.asarray(img)\n",
        "    #plt.imshow(img)\n",
        "    img = np.expand_dims(img, axis=0)\n",
        "    #print (rsize.shape)\n",
        "    # saving each image in the list\n",
        "    #plt.show()\n",
        "    output=model.predict(img)\n",
        "    if  output[0][1]<threshold:\n",
        "      answer='Damaged'\n",
        "    else:\n",
        "      answer='Nice'\n",
        "    #print(answer)\n",
        "    predictions.append(answer)\n",
        "    fulloutput.append(output)\n",
        "#print(predictions)\n",
        "# converting the list of images into array\n",
        "#NewX=np.array(NewX)\n",
        "print(predictions)\n"
      ]
    },
    {
      "cell_type": "code",
      "execution_count": null,
      "metadata": {
        "colab": {
          "base_uri": "https://localhost:8080/"
        },
        "id": "cStLs9iqk0HC",
        "outputId": "c78b74f1-c3b7-4594-be3c-16d75b8cdacb"
      },
      "outputs": [
        {
          "name": "stdout",
          "output_type": "stream",
          "text": [
            "<class 'list'>\n",
            "['Yes', 'No', 'No', 'No', 'No', 'No', 'No', 'Yes', 'Yes', 'No', 'Yes', 'Yes']\n",
            "['Nice', 'Nice', 'Nice', 'Nice', 'Nice', 'Nice', 'Nice', 'Damaged', 'Damaged', 'Damaged', 'Damaged', 'Damaged']\n"
          ]
        }
      ],
      "source": [
        "#Check to see if predictions match actual\n",
        "match_set=[]\n",
        "print(type(predictions))\n",
        "for i in range(len(predictions)):\n",
        "  if predictions[i]==actual_set['Actual'][i]:\n",
        "    match_set.append('Yes')\n",
        "  else:\n",
        "    match_set.append('No')\n",
        "print(match_set)\n",
        "actual=actual_set['Actual'].tolist()\n",
        "print(actual)"
      ]
    },
    {
      "cell_type": "code",
      "execution_count": null,
      "metadata": {
        "colab": {
          "base_uri": "https://localhost:8080/",
          "height": 419
        },
        "id": "DguEE4pJJP3p",
        "outputId": "c32d052d-6f71-42b9-d128-49943c6950c0"
      },
      "outputs": [
        {
          "data": {
            "text/html": [
              "<div>\n",
              "<style scoped>\n",
              "    .dataframe tbody tr th:only-of-type {\n",
              "        vertical-align: middle;\n",
              "    }\n",
              "\n",
              "    .dataframe tbody tr th {\n",
              "        vertical-align: top;\n",
              "    }\n",
              "\n",
              "    .dataframe thead th {\n",
              "        text-align: right;\n",
              "    }\n",
              "</style>\n",
              "<table border=\"1\" class=\"dataframe\">\n",
              "  <thead>\n",
              "    <tr style=\"text-align: right;\">\n",
              "      <th></th>\n",
              "      <th>image_names</th>\n",
              "      <th>class</th>\n",
              "      <th>actual</th>\n",
              "      <th>Match?</th>\n",
              "      <th>Confidence Score</th>\n",
              "    </tr>\n",
              "  </thead>\n",
              "  <tbody>\n",
              "    <tr>\n",
              "      <th>0</th>\n",
              "      <td>spicelabelbraille-scaled.jpg</td>\n",
              "      <td>Nice</td>\n",
              "      <td>Nice</td>\n",
              "      <td>Yes</td>\n",
              "      <td>[[3.1706912e-07, 0.99999964]]</td>\n",
              "    </tr>\n",
              "    <tr>\n",
              "      <th>1</th>\n",
              "      <td>20210620_191814.jpg</td>\n",
              "      <td>Damaged</td>\n",
              "      <td>Nice</td>\n",
              "      <td>No</td>\n",
              "      <td>[[0.9725366, 0.027463326]]</td>\n",
              "    </tr>\n",
              "    <tr>\n",
              "      <th>2</th>\n",
              "      <td>20210620_191900.jpg</td>\n",
              "      <td>Damaged</td>\n",
              "      <td>Nice</td>\n",
              "      <td>No</td>\n",
              "      <td>[[1.0, 6.346435e-14]]</td>\n",
              "    </tr>\n",
              "    <tr>\n",
              "      <th>3</th>\n",
              "      <td>20210620_191903.jpg</td>\n",
              "      <td>Damaged</td>\n",
              "      <td>Nice</td>\n",
              "      <td>No</td>\n",
              "      <td>[[1.0, 1.4217218e-13]]</td>\n",
              "    </tr>\n",
              "    <tr>\n",
              "      <th>4</th>\n",
              "      <td>20210620_191905.jpg</td>\n",
              "      <td>Damaged</td>\n",
              "      <td>Nice</td>\n",
              "      <td>No</td>\n",
              "      <td>[[1.0, 6.0596934e-14]]</td>\n",
              "    </tr>\n",
              "    <tr>\n",
              "      <th>5</th>\n",
              "      <td>20210620_191908.jpg</td>\n",
              "      <td>Damaged</td>\n",
              "      <td>Nice</td>\n",
              "      <td>No</td>\n",
              "      <td>[[1.0, 1.729385e-11]]</td>\n",
              "    </tr>\n",
              "    <tr>\n",
              "      <th>6</th>\n",
              "      <td>20210620_191911.jpg</td>\n",
              "      <td>Damaged</td>\n",
              "      <td>Nice</td>\n",
              "      <td>No</td>\n",
              "      <td>[[1.0, 1.6879339e-13]]</td>\n",
              "    </tr>\n",
              "    <tr>\n",
              "      <th>7</th>\n",
              "      <td>20210620_191919.jpg</td>\n",
              "      <td>Damaged</td>\n",
              "      <td>Damaged</td>\n",
              "      <td>Yes</td>\n",
              "      <td>[[1.0, 3.587792e-10]]</td>\n",
              "    </tr>\n",
              "    <tr>\n",
              "      <th>8</th>\n",
              "      <td>20210620_191929.jpg</td>\n",
              "      <td>Damaged</td>\n",
              "      <td>Damaged</td>\n",
              "      <td>Yes</td>\n",
              "      <td>[[1.0, 2.5189315e-13]]</td>\n",
              "    </tr>\n",
              "    <tr>\n",
              "      <th>9</th>\n",
              "      <td>20210620_191952.jpg</td>\n",
              "      <td>Nice</td>\n",
              "      <td>Damaged</td>\n",
              "      <td>No</td>\n",
              "      <td>[[0.00039458356, 0.9996055]]</td>\n",
              "    </tr>\n",
              "    <tr>\n",
              "      <th>10</th>\n",
              "      <td>20210620_192006.jpg</td>\n",
              "      <td>Damaged</td>\n",
              "      <td>Damaged</td>\n",
              "      <td>Yes</td>\n",
              "      <td>[[0.3678568, 0.63214314]]</td>\n",
              "    </tr>\n",
              "    <tr>\n",
              "      <th>11</th>\n",
              "      <td>20210620_192016.jpg</td>\n",
              "      <td>Damaged</td>\n",
              "      <td>Damaged</td>\n",
              "      <td>Yes</td>\n",
              "      <td>[[0.99905425, 0.00094574067]]</td>\n",
              "    </tr>\n",
              "  </tbody>\n",
              "</table>\n",
              "</div>"
            ],
            "text/plain": [
              "                     image_names    class  ... Match?               Confidence Score\n",
              "0   spicelabelbraille-scaled.jpg     Nice  ...    Yes  [[3.1706912e-07, 0.99999964]]\n",
              "1            20210620_191814.jpg  Damaged  ...     No     [[0.9725366, 0.027463326]]\n",
              "2            20210620_191900.jpg  Damaged  ...     No          [[1.0, 6.346435e-14]]\n",
              "3            20210620_191903.jpg  Damaged  ...     No         [[1.0, 1.4217218e-13]]\n",
              "4            20210620_191905.jpg  Damaged  ...     No         [[1.0, 6.0596934e-14]]\n",
              "5            20210620_191908.jpg  Damaged  ...     No          [[1.0, 1.729385e-11]]\n",
              "6            20210620_191911.jpg  Damaged  ...     No         [[1.0, 1.6879339e-13]]\n",
              "7            20210620_191919.jpg  Damaged  ...    Yes          [[1.0, 3.587792e-10]]\n",
              "8            20210620_191929.jpg  Damaged  ...    Yes         [[1.0, 2.5189315e-13]]\n",
              "9            20210620_191952.jpg     Nice  ...     No   [[0.00039458356, 0.9996055]]\n",
              "10           20210620_192006.jpg  Damaged  ...    Yes      [[0.3678568, 0.63214314]]\n",
              "11           20210620_192016.jpg  Damaged  ...    Yes  [[0.99905425, 0.00094574067]]\n",
              "\n",
              "[12 rows x 5 columns]"
            ]
          },
          "metadata": {
            "tags": []
          },
          "output_type": "display_data"
        },
        {
          "name": "stdout",
          "output_type": "stream",
          "text": [
            "Test_Set_Accuracy: 41.66666666666667%\n"
          ]
        }
      ],
      "source": [
        "test_set['class'] = predictions\n",
        "test_set['actual']=actual_set['Actual']\n",
        "test_set['Match?']=match_set\n",
        "test_set['Confidence Score']=fulloutput\n",
        "display(test_set)\n",
        "def condition(x):\n",
        "  return x =='Yes'\n",
        "# Count the number of matching elements\n",
        "Test_Set_Accuracy=str(sum(condition(x) for x in match_set)/len(match_set)*100)\n",
        "print('Test_Set_Accuracy: '+Test_Set_Accuracy+'%')"
      ]
    },
    {
      "cell_type": "markdown",
      "metadata": {
        "id": "ltXj5FCIPZaM"
      },
      "source": [
        "## Confusion Matrix"
      ]
    },
    {
      "cell_type": "markdown",
      "metadata": {
        "id": "ewVCOHPcPZaM"
      },
      "source": [
        "Create a confusion matrix to measure other metrics of the EarlyStoppingModel."
      ]
    },
    {
      "cell_type": "code",
      "execution_count": null,
      "metadata": {
        "colab": {
          "base_uri": "https://localhost:8080/"
        },
        "id": "K8Cq7-tphstk",
        "outputId": "f1ea3ec7-2bfb-456c-aa32-053f2705493a"
      },
      "outputs": [
        {
          "name": "stdout",
          "output_type": "stream",
          "text": [
            "[[1 6]\n",
            " [1 4]]\n",
            "              precision    recall  f1-score   support\n",
            "\n",
            "        Nice       0.50      0.14      0.22         7\n",
            "     Damaged       0.40      0.80      0.53         5\n",
            "\n",
            "    accuracy                           0.42        12\n",
            "   macro avg       0.45      0.47      0.38        12\n",
            "weighted avg       0.46      0.42      0.35        12\n",
            "\n"
          ]
        }
      ],
      "source": [
        "# Importing the dependancies\n",
        "from sklearn import metrics\n",
        "# Printing the confusion matrix\n",
        "# The columns will show the instances predicted for each label,\n",
        "# and the rows will show the actual number of instances for each label.\n",
        "print(metrics.confusion_matrix(actual_set['Actual'], predictions, labels=[\"Nice\", \"Damaged\"]))\n",
        "# Printing the precision and recall, among other metrics\n",
        "print(metrics.classification_report(actual_set['Actual'], predictions, labels=[\"Nice\", \"Damaged\"]))"
      ]
    },
    {
      "cell_type": "code",
      "execution_count": null,
      "metadata": {
        "id": "HcDw0HruJP3p"
      },
      "outputs": [],
      "source": [
        "test_set.to_csv(base+'McCormick_output_results.csv',index=False) #Save results\n"
      ]
    },
    {
      "cell_type": "markdown",
      "metadata": {
        "id": "YiOvrCeHPZaN"
      },
      "source": [
        "## Manual Threshold Search"
      ]
    },
    {
      "cell_type": "markdown",
      "metadata": {
        "id": "F07x3WgrPZaO"
      },
      "source": [
        "Try to see if there are better results from just finding the threshold at which the best threshold would be."
      ]
    },
    {
      "cell_type": "code",
      "execution_count": null,
      "metadata": {
        "colab": {
          "base_uri": "https://localhost:8080/"
        },
        "id": "XmYAJDvHPZaO",
        "outputId": "d7983a67-f1cc-4d13-c43f-79b8de535d48"
      },
      "outputs": [
        {
          "name": "stdout",
          "output_type": "stream",
          "text": [
            "Accuracy: 58.333333333333336 %\n",
            "Index of Maximum Accuracy: 0\n",
            "Threshold of Maximum Accuracy: 6.059693355821641e-14\n"
          ]
        }
      ],
      "source": [
        "saved_predictions=[]\n",
        "current_prediction=[]\n",
        "threshold_predictions=[]\n",
        "accuracies=[]\n",
        "selected_elements=[]\n",
        "indices=[]\n",
        "length=100\n",
        "for i in range(len(fulloutput)):\n",
        "    current_prediction=np.array(fulloutput)[i][0][1]\n",
        "    saved_predictions.append(current_prediction)\n",
        "#indices=[i for i, e in enumerate(match_set) if e == 'Yes']\n",
        "#for index in indices:\n",
        "    #selected_elements.append(saved_predictions[index])\n",
        "#print(selected_elements)\n",
        "#threshold_predictions=np.linspace(min(selected_elements),max(selected_elements),length)\n",
        "threshold_predictions=np.linspace(min(saved_predictions),max(saved_predictions),length)\n",
        "match_set1=[]\n",
        "for j in range(length):\n",
        "    for i in range(len(saved_predictions)):\n",
        "        if  saved_predictions[i]<threshold_predictions[j]:\n",
        "            answer='Damaged'\n",
        "        else:\n",
        "            answer='Nice'\n",
        "        if answer==actual_set['Actual'][i]:\n",
        "             match_set1.append('Yes')\n",
        "        else:\n",
        "            match_set1.append('No')\n",
        "    Test_Set_Accuracy=str(sum(condition(x) for x in match_set1)/len(match_set1)*100)\n",
        "    accuracies.append(Test_Set_Accuracy)\n",
        "#print(accuracies)\n",
        "print('Accuracy: '+str(max(accuracies))+' %')\n",
        "print('Index of Maximum Accuracy: '+str(accuracies.index(max(accuracies))))\n",
        "test_threshold=threshold_predictions[accuracies.index(max(accuracies))]\n",
        "print('Threshold of Maximum Accuracy: '+str(test_threshold))\n",
        "\n",
        "#print(len(saved_predictions))\n",
        "#print(saved_predictions)\n",
        "#print(min(saved_predictions))\n",
        "#print(max(saved_predictions))\n",
        "\n",
        "\n",
        "#print(np.linspace(min(saved_predictions),max(saved_predictions),100))"
      ]
    },
    {
      "cell_type": "code",
      "execution_count": null,
      "metadata": {
        "colab": {
          "base_uri": "https://localhost:8080/",
          "height": 436
        },
        "id": "drqv3J6BPZaO",
        "outputId": "e7818040-e0a2-422d-a787-daaf9cd31e30"
      },
      "outputs": [
        {
          "name": "stdout",
          "output_type": "stream",
          "text": [
            "<class 'list'>\n"
          ]
        },
        {
          "data": {
            "text/html": [
              "<div>\n",
              "<style scoped>\n",
              "    .dataframe tbody tr th:only-of-type {\n",
              "        vertical-align: middle;\n",
              "    }\n",
              "\n",
              "    .dataframe tbody tr th {\n",
              "        vertical-align: top;\n",
              "    }\n",
              "\n",
              "    .dataframe thead th {\n",
              "        text-align: right;\n",
              "    }\n",
              "</style>\n",
              "<table border=\"1\" class=\"dataframe\">\n",
              "  <thead>\n",
              "    <tr style=\"text-align: right;\">\n",
              "      <th></th>\n",
              "      <th>image_names</th>\n",
              "      <th>class</th>\n",
              "      <th>actual</th>\n",
              "      <th>Match?</th>\n",
              "      <th>Confidence Score</th>\n",
              "    </tr>\n",
              "  </thead>\n",
              "  <tbody>\n",
              "    <tr>\n",
              "      <th>0</th>\n",
              "      <td>spicelabelbraille-scaled.jpg</td>\n",
              "      <td>Nice</td>\n",
              "      <td>Nice</td>\n",
              "      <td>Yes</td>\n",
              "      <td>[[3.1706912e-07, 0.99999964]]</td>\n",
              "    </tr>\n",
              "    <tr>\n",
              "      <th>1</th>\n",
              "      <td>20210620_191814.jpg</td>\n",
              "      <td>Nice</td>\n",
              "      <td>Nice</td>\n",
              "      <td>Yes</td>\n",
              "      <td>[[0.9725366, 0.027463326]]</td>\n",
              "    </tr>\n",
              "    <tr>\n",
              "      <th>2</th>\n",
              "      <td>20210620_191900.jpg</td>\n",
              "      <td>Nice</td>\n",
              "      <td>Nice</td>\n",
              "      <td>Yes</td>\n",
              "      <td>[[1.0, 6.346435e-14]]</td>\n",
              "    </tr>\n",
              "    <tr>\n",
              "      <th>3</th>\n",
              "      <td>20210620_191903.jpg</td>\n",
              "      <td>Nice</td>\n",
              "      <td>Nice</td>\n",
              "      <td>Yes</td>\n",
              "      <td>[[1.0, 1.4217218e-13]]</td>\n",
              "    </tr>\n",
              "    <tr>\n",
              "      <th>4</th>\n",
              "      <td>20210620_191905.jpg</td>\n",
              "      <td>Nice</td>\n",
              "      <td>Nice</td>\n",
              "      <td>Yes</td>\n",
              "      <td>[[1.0, 6.0596934e-14]]</td>\n",
              "    </tr>\n",
              "    <tr>\n",
              "      <th>5</th>\n",
              "      <td>20210620_191908.jpg</td>\n",
              "      <td>Nice</td>\n",
              "      <td>Nice</td>\n",
              "      <td>Yes</td>\n",
              "      <td>[[1.0, 1.729385e-11]]</td>\n",
              "    </tr>\n",
              "    <tr>\n",
              "      <th>6</th>\n",
              "      <td>20210620_191911.jpg</td>\n",
              "      <td>Nice</td>\n",
              "      <td>Nice</td>\n",
              "      <td>Yes</td>\n",
              "      <td>[[1.0, 1.6879339e-13]]</td>\n",
              "    </tr>\n",
              "    <tr>\n",
              "      <th>7</th>\n",
              "      <td>20210620_191919.jpg</td>\n",
              "      <td>Nice</td>\n",
              "      <td>Damaged</td>\n",
              "      <td>No</td>\n",
              "      <td>[[1.0, 3.587792e-10]]</td>\n",
              "    </tr>\n",
              "    <tr>\n",
              "      <th>8</th>\n",
              "      <td>20210620_191929.jpg</td>\n",
              "      <td>Nice</td>\n",
              "      <td>Damaged</td>\n",
              "      <td>No</td>\n",
              "      <td>[[1.0, 2.5189315e-13]]</td>\n",
              "    </tr>\n",
              "    <tr>\n",
              "      <th>9</th>\n",
              "      <td>20210620_191952.jpg</td>\n",
              "      <td>Nice</td>\n",
              "      <td>Damaged</td>\n",
              "      <td>No</td>\n",
              "      <td>[[0.00039458356, 0.9996055]]</td>\n",
              "    </tr>\n",
              "    <tr>\n",
              "      <th>10</th>\n",
              "      <td>20210620_192006.jpg</td>\n",
              "      <td>Nice</td>\n",
              "      <td>Damaged</td>\n",
              "      <td>No</td>\n",
              "      <td>[[0.3678568, 0.63214314]]</td>\n",
              "    </tr>\n",
              "    <tr>\n",
              "      <th>11</th>\n",
              "      <td>20210620_192016.jpg</td>\n",
              "      <td>Nice</td>\n",
              "      <td>Damaged</td>\n",
              "      <td>No</td>\n",
              "      <td>[[0.99905425, 0.00094574067]]</td>\n",
              "    </tr>\n",
              "  </tbody>\n",
              "</table>\n",
              "</div>"
            ],
            "text/plain": [
              "                     image_names class  ... Match?               Confidence Score\n",
              "0   spicelabelbraille-scaled.jpg  Nice  ...    Yes  [[3.1706912e-07, 0.99999964]]\n",
              "1            20210620_191814.jpg  Nice  ...    Yes     [[0.9725366, 0.027463326]]\n",
              "2            20210620_191900.jpg  Nice  ...    Yes          [[1.0, 6.346435e-14]]\n",
              "3            20210620_191903.jpg  Nice  ...    Yes         [[1.0, 1.4217218e-13]]\n",
              "4            20210620_191905.jpg  Nice  ...    Yes         [[1.0, 6.0596934e-14]]\n",
              "5            20210620_191908.jpg  Nice  ...    Yes          [[1.0, 1.729385e-11]]\n",
              "6            20210620_191911.jpg  Nice  ...    Yes         [[1.0, 1.6879339e-13]]\n",
              "7            20210620_191919.jpg  Nice  ...     No          [[1.0, 3.587792e-10]]\n",
              "8            20210620_191929.jpg  Nice  ...     No         [[1.0, 2.5189315e-13]]\n",
              "9            20210620_191952.jpg  Nice  ...     No   [[0.00039458356, 0.9996055]]\n",
              "10           20210620_192006.jpg  Nice  ...     No      [[0.3678568, 0.63214314]]\n",
              "11           20210620_192016.jpg  Nice  ...     No  [[0.99905425, 0.00094574067]]\n",
              "\n",
              "[12 rows x 5 columns]"
            ]
          },
          "metadata": {
            "tags": []
          },
          "output_type": "display_data"
        },
        {
          "name": "stdout",
          "output_type": "stream",
          "text": [
            "Test_Set_Accuracy: 58.333333333333336%\n"
          ]
        }
      ],
      "source": [
        "# load images and store it in numpy array\n",
        "# empty list to store the images\n",
        "predictions=[]\n",
        "fulloutput=[]\n",
        "# iterating over each image\n",
        "#for i in range(100):\n",
        "for i in range(len(AllFiles)):\n",
        "    #count += 1\n",
        "    # loading the image using its name\n",
        "    img = image.load_img(AllFiles[i],target_size=(224,224))\n",
        "    img = np.asarray(img)\n",
        "    #plt.imshow(img)\n",
        "    img = np.expand_dims(img, axis=0)\n",
        "    #print (rsize.shape)\n",
        "    # saving each image in the list\n",
        "    #plt.show()\n",
        "    output=model.predict(img)\n",
        "    if  output[0][1]<test_threshold:\n",
        "      answer='Damaged'\n",
        "    else:\n",
        "      answer='Nice'\n",
        "    #print(answer)\n",
        "    predictions.append(answer)\n",
        "    fulloutput.append(output)\n",
        "#print(predictions)\n",
        "# converting the list of images into array\n",
        "#NewX=np.array(NewX)\n",
        "#print(predictions)\n",
        "#Check to see if predictions match actual\n",
        "match_set=[]\n",
        "print(type(predictions))\n",
        "for i in range(len(predictions)):\n",
        "  if predictions[i]==actual_set['Actual'][i]:\n",
        "    match_set.append('Yes')\n",
        "  else:\n",
        "    match_set.append('No')\n",
        "#print(match_set)\n",
        "actual=actual_set['Actual'].tolist()\n",
        "#print(actual)\n",
        "test_set['class'] = predictions\n",
        "test_set['actual']=actual_set['Actual']\n",
        "test_set['Match?']=match_set\n",
        "test_set['Confidence Score']=fulloutput\n",
        "display(test_set)\n",
        "def condition(x):\n",
        "  return x =='Yes'\n",
        "# Count the number of matching elements\n",
        "Test_Set_Accuracy=str(sum(condition(x) for x in match_set)/len(match_set)*100)\n",
        "print('Test_Set_Accuracy: '+Test_Set_Accuracy+'%')"
      ]
    },
    {
      "cell_type": "markdown",
      "metadata": {
        "id": "AxdC3AkXPZaP"
      },
      "source": [
        "Repeat the above metrics for the model with the highest validation accuracy..."
      ]
    },
    {
      "cell_type": "code",
      "execution_count": null,
      "metadata": {
        "colab": {
          "base_uri": "https://localhost:8080/"
        },
        "id": "yQ1ScAROvA_y",
        "outputId": "47f1d220-e65c-42bd-f96b-ec891e9c1b8e"
      },
      "outputs": [
        {
          "name": "stdout",
          "output_type": "stream",
          "text": [
            "[array([[0.9952526 , 0.00474736]], dtype=float32), array([[0.07627353, 0.9237265 ]], dtype=float32), array([[0.08342475, 0.9165752 ]], dtype=float32), array([[0.05543008, 0.9445699 ]], dtype=float32), array([[0.15569903, 0.844301  ]], dtype=float32), array([[0.6130077 , 0.38699228]], dtype=float32), array([[0.21269946, 0.78730047]], dtype=float32), array([[0.8539064 , 0.14609362]], dtype=float32), array([[0.7543827 , 0.24561724]], dtype=float32), array([[0.49743605, 0.50256395]], dtype=float32), array([[0.4099271 , 0.59007293]], dtype=float32), array([[0.6114163 , 0.38858372]], dtype=float32)]\n"
          ]
        }
      ],
      "source": [
        "\n",
        "# empty list to store the images\n",
        "predictions=[]\n",
        "fulloutput=[]\n",
        "# iterating over each image\n",
        "#for i in range(100):\n",
        "for i in range(len(AllFiles)):\n",
        "    #count += 1\n",
        "    # loading the image using its name\n",
        "    img = image.load_img(AllFiles[i],target_size=(224,224))\n",
        "    img = np.asarray(img)\n",
        "    #plt.imshow(img)\n",
        "    img = np.expand_dims(img, axis=0)\n",
        "    #print (rsize.shape)\n",
        "    # saving each image in the list\n",
        "    #plt.show()\n",
        "    output=saved_model.predict(img)\n",
        "    if  output[0][1]<threshold_saved:\n",
        "      answer='Damaged'\n",
        "    else:\n",
        "      answer='Nice'\n",
        "    #print(answer)\n",
        "    predictions.append(answer)\n",
        "    fulloutput.append(output)\n",
        "#print(predictions)\n",
        "# converting the list of images into array\n",
        "#NewX=np.array(NewX)\n",
        "print(fulloutput)\n"
      ]
    },
    {
      "cell_type": "code",
      "execution_count": null,
      "metadata": {
        "colab": {
          "base_uri": "https://localhost:8080/"
        },
        "id": "SoXcPxMdvBAd",
        "outputId": "5c161bce-4ff0-4085-b1c7-3ddd030e6911"
      },
      "outputs": [
        {
          "name": "stdout",
          "output_type": "stream",
          "text": [
            "<class 'list'>\n",
            "['No', 'Yes', 'Yes', 'Yes', 'Yes', 'Yes', 'Yes', 'Yes', 'Yes', 'No', 'No', 'No']\n"
          ]
        }
      ],
      "source": [
        "#Check to see if predictions match actual\n",
        "match_set=[]\n",
        "print(type(predictions))\n",
        "for i in range(len(predictions)):\n",
        "  if predictions[i]==actual_set['Actual'][i]:\n",
        "    match_set.append('Yes')\n",
        "  else:\n",
        "    match_set.append('No')\n",
        "print(match_set)\n"
      ]
    },
    {
      "cell_type": "code",
      "execution_count": null,
      "metadata": {
        "colab": {
          "base_uri": "https://localhost:8080/",
          "height": 419
        },
        "id": "jycxRSYlvBAe",
        "outputId": "2c1cf064-d0fa-4a10-b872-e1e06af21427"
      },
      "outputs": [
        {
          "data": {
            "text/html": [
              "<div>\n",
              "<style scoped>\n",
              "    .dataframe tbody tr th:only-of-type {\n",
              "        vertical-align: middle;\n",
              "    }\n",
              "\n",
              "    .dataframe tbody tr th {\n",
              "        vertical-align: top;\n",
              "    }\n",
              "\n",
              "    .dataframe thead th {\n",
              "        text-align: right;\n",
              "    }\n",
              "</style>\n",
              "<table border=\"1\" class=\"dataframe\">\n",
              "  <thead>\n",
              "    <tr style=\"text-align: right;\">\n",
              "      <th></th>\n",
              "      <th>image_names</th>\n",
              "      <th>class</th>\n",
              "      <th>actual</th>\n",
              "      <th>Match?</th>\n",
              "      <th>Confidence Score</th>\n",
              "    </tr>\n",
              "  </thead>\n",
              "  <tbody>\n",
              "    <tr>\n",
              "      <th>0</th>\n",
              "      <td>spicelabelbraille-scaled.jpg</td>\n",
              "      <td>Damaged</td>\n",
              "      <td>Nice</td>\n",
              "      <td>No</td>\n",
              "      <td>[[0.9952526, 0.004747362]]</td>\n",
              "    </tr>\n",
              "    <tr>\n",
              "      <th>1</th>\n",
              "      <td>20210620_191814.jpg</td>\n",
              "      <td>Nice</td>\n",
              "      <td>Nice</td>\n",
              "      <td>Yes</td>\n",
              "      <td>[[0.07627353, 0.9237265]]</td>\n",
              "    </tr>\n",
              "    <tr>\n",
              "      <th>2</th>\n",
              "      <td>20210620_191900.jpg</td>\n",
              "      <td>Nice</td>\n",
              "      <td>Nice</td>\n",
              "      <td>Yes</td>\n",
              "      <td>[[0.083424754, 0.9165752]]</td>\n",
              "    </tr>\n",
              "    <tr>\n",
              "      <th>3</th>\n",
              "      <td>20210620_191903.jpg</td>\n",
              "      <td>Nice</td>\n",
              "      <td>Nice</td>\n",
              "      <td>Yes</td>\n",
              "      <td>[[0.055430077, 0.9445699]]</td>\n",
              "    </tr>\n",
              "    <tr>\n",
              "      <th>4</th>\n",
              "      <td>20210620_191905.jpg</td>\n",
              "      <td>Nice</td>\n",
              "      <td>Nice</td>\n",
              "      <td>Yes</td>\n",
              "      <td>[[0.15569903, 0.844301]]</td>\n",
              "    </tr>\n",
              "    <tr>\n",
              "      <th>5</th>\n",
              "      <td>20210620_191908.jpg</td>\n",
              "      <td>Nice</td>\n",
              "      <td>Nice</td>\n",
              "      <td>Yes</td>\n",
              "      <td>[[0.6130077, 0.38699228]]</td>\n",
              "    </tr>\n",
              "    <tr>\n",
              "      <th>6</th>\n",
              "      <td>20210620_191911.jpg</td>\n",
              "      <td>Nice</td>\n",
              "      <td>Nice</td>\n",
              "      <td>Yes</td>\n",
              "      <td>[[0.21269946, 0.78730047]]</td>\n",
              "    </tr>\n",
              "    <tr>\n",
              "      <th>7</th>\n",
              "      <td>20210620_191919.jpg</td>\n",
              "      <td>Damaged</td>\n",
              "      <td>Damaged</td>\n",
              "      <td>Yes</td>\n",
              "      <td>[[0.8539064, 0.14609362]]</td>\n",
              "    </tr>\n",
              "    <tr>\n",
              "      <th>8</th>\n",
              "      <td>20210620_191929.jpg</td>\n",
              "      <td>Damaged</td>\n",
              "      <td>Damaged</td>\n",
              "      <td>Yes</td>\n",
              "      <td>[[0.7543827, 0.24561724]]</td>\n",
              "    </tr>\n",
              "    <tr>\n",
              "      <th>9</th>\n",
              "      <td>20210620_191952.jpg</td>\n",
              "      <td>Nice</td>\n",
              "      <td>Damaged</td>\n",
              "      <td>No</td>\n",
              "      <td>[[0.49743605, 0.50256395]]</td>\n",
              "    </tr>\n",
              "    <tr>\n",
              "      <th>10</th>\n",
              "      <td>20210620_192006.jpg</td>\n",
              "      <td>Nice</td>\n",
              "      <td>Damaged</td>\n",
              "      <td>No</td>\n",
              "      <td>[[0.4099271, 0.59007293]]</td>\n",
              "    </tr>\n",
              "    <tr>\n",
              "      <th>11</th>\n",
              "      <td>20210620_192016.jpg</td>\n",
              "      <td>Nice</td>\n",
              "      <td>Damaged</td>\n",
              "      <td>No</td>\n",
              "      <td>[[0.6114163, 0.38858372]]</td>\n",
              "    </tr>\n",
              "  </tbody>\n",
              "</table>\n",
              "</div>"
            ],
            "text/plain": [
              "                     image_names    class  ... Match?            Confidence Score\n",
              "0   spicelabelbraille-scaled.jpg  Damaged  ...     No  [[0.9952526, 0.004747362]]\n",
              "1            20210620_191814.jpg     Nice  ...    Yes   [[0.07627353, 0.9237265]]\n",
              "2            20210620_191900.jpg     Nice  ...    Yes  [[0.083424754, 0.9165752]]\n",
              "3            20210620_191903.jpg     Nice  ...    Yes  [[0.055430077, 0.9445699]]\n",
              "4            20210620_191905.jpg     Nice  ...    Yes    [[0.15569903, 0.844301]]\n",
              "5            20210620_191908.jpg     Nice  ...    Yes   [[0.6130077, 0.38699228]]\n",
              "6            20210620_191911.jpg     Nice  ...    Yes  [[0.21269946, 0.78730047]]\n",
              "7            20210620_191919.jpg  Damaged  ...    Yes   [[0.8539064, 0.14609362]]\n",
              "8            20210620_191929.jpg  Damaged  ...    Yes   [[0.7543827, 0.24561724]]\n",
              "9            20210620_191952.jpg     Nice  ...     No  [[0.49743605, 0.50256395]]\n",
              "10           20210620_192006.jpg     Nice  ...     No   [[0.4099271, 0.59007293]]\n",
              "11           20210620_192016.jpg     Nice  ...     No   [[0.6114163, 0.38858372]]\n",
              "\n",
              "[12 rows x 5 columns]"
            ]
          },
          "metadata": {
            "tags": []
          },
          "output_type": "display_data"
        },
        {
          "name": "stdout",
          "output_type": "stream",
          "text": [
            "Test_Set_Accuracy: 66.66666666666666%\n"
          ]
        }
      ],
      "source": [
        "test_set['class'] = predictions\n",
        "test_set['actual']=actual_set['Actual']\n",
        "test_set['Match?']=match_set\n",
        "test_set['Confidence Score']=fulloutput\n",
        "display(test_set)\n",
        "def condition(x):\n",
        "  return x =='Yes'\n",
        "# Count the number of matching elements\n",
        "Test_Set_Accuracy=str(sum(condition(x) for x in match_set)/len(match_set)*100)\n",
        "print('Test_Set_Accuracy: '+Test_Set_Accuracy+'%')"
      ]
    },
    {
      "cell_type": "code",
      "execution_count": null,
      "metadata": {
        "colab": {
          "base_uri": "https://localhost:8080/"
        },
        "id": "ByfyaIXoRe8S",
        "outputId": "b260b161-0744-4e08-8b64-c3d31588a213"
      },
      "outputs": [
        {
          "name": "stdout",
          "output_type": "stream",
          "text": [
            "[[6 1]\n",
            " [3 2]]\n",
            "              precision    recall  f1-score   support\n",
            "\n",
            "        Nice       0.67      0.86      0.75         7\n",
            "     Damaged       0.67      0.40      0.50         5\n",
            "\n",
            "    accuracy                           0.67        12\n",
            "   macro avg       0.67      0.63      0.62        12\n",
            "weighted avg       0.67      0.67      0.65        12\n",
            "\n"
          ]
        }
      ],
      "source": [
        "# Importing the dependancies\n",
        "from sklearn import metrics\n",
        "# Printing the confusion matrix\n",
        "# The columns will show the instances predicted for each label,\n",
        "# and the rows will show the actual number of instances for each label.\n",
        "print(metrics.confusion_matrix(actual_set['Actual'], predictions, labels=[\"Nice\", \"Damaged\"]))\n",
        "# Printing the precision and recall, among other metrics\n",
        "print(metrics.classification_report(actual_set['Actual'], predictions, labels=[\"Nice\", \"Damaged\"]))"
      ]
    },
    {
      "cell_type": "code",
      "execution_count": null,
      "metadata": {
        "id": "hHAga0NB4WoF"
      },
      "outputs": [],
      "source": [
        "test_set.to_csv(base+'Best_acc_McCormick_output_results.csv',index=False)\n"
      ]
    },
    {
      "cell_type": "code",
      "execution_count": null,
      "metadata": {
        "colab": {
          "base_uri": "https://localhost:8080/"
        },
        "id": "hork7w3_PZaR",
        "outputId": "6b13a220-3f20-4d25-ea11-6bb6fb786203"
      },
      "outputs": [
        {
          "name": "stdout",
          "output_type": "stream",
          "text": [
            "Accuracy: 68.25842696629213 %\n",
            "Index of Maximum Accuracy: 88\n",
            "Threshold of Maximum Accuracy: 0.840145160858002\n"
          ]
        }
      ],
      "source": [
        "saved_predictions=[]\n",
        "current_prediction=[]\n",
        "threshold_predictions=[]\n",
        "accuracies=[]\n",
        "selected_elements=[]\n",
        "indices=[]\n",
        "length=100\n",
        "for i in range(len(fulloutput)):\n",
        "    current_prediction=np.array(fulloutput)[i][0][1]\n",
        "    saved_predictions.append(current_prediction)\n",
        "#indices=[i for i, e in enumerate(match_set) if e == 'Yes']\n",
        "#for index in indices:\n",
        "    #selected_elements.append(saved_predictions[index])\n",
        "#print(selected_elements)\n",
        "#threshold_predictions=np.linspace(min(selected_elements),max(selected_elements),length)\n",
        "threshold_predictions=np.linspace(min(saved_predictions),max(saved_predictions),length)\n",
        "match_set1=[]\n",
        "for j in range(length):\n",
        "    for i in range(len(saved_predictions)):\n",
        "        if  saved_predictions[i]<threshold_predictions[j]:\n",
        "            answer='Damaged'\n",
        "        else:\n",
        "            answer='Nice'\n",
        "        if answer==actual_set['Actual'][i]:\n",
        "             match_set1.append('Yes')\n",
        "        else:\n",
        "            match_set1.append('No')\n",
        "    Test_Set_Accuracy=str(sum(condition(x) for x in match_set1)/len(match_set1)*100)\n",
        "    accuracies.append(Test_Set_Accuracy)\n",
        "#print(accuracies)\n",
        "print('Accuracy: '+str(max(accuracies))+' %')\n",
        "print('Index of Maximum Accuracy: '+str(accuracies.index(max(accuracies))))\n",
        "test_threshold=threshold_predictions[accuracies.index(max(accuracies))]\n",
        "print('Threshold of Maximum Accuracy: '+str(test_threshold))\n",
        "\n",
        "#print(len(saved_predictions))\n",
        "#print(saved_predictions)\n",
        "#print(min(saved_predictions))\n",
        "#print(max(saved_predictions))\n",
        "\n",
        "\n",
        "#print(np.linspace(min(saved_predictions),max(saved_predictions),100))"
      ]
    },
    {
      "cell_type": "code",
      "execution_count": null,
      "metadata": {
        "colab": {
          "base_uri": "https://localhost:8080/",
          "height": 436
        },
        "id": "J1oc6rU1PZaR",
        "outputId": "4c6cc445-f1d1-41a0-ba6b-9c6cd34e4f65"
      },
      "outputs": [
        {
          "name": "stdout",
          "output_type": "stream",
          "text": [
            "<class 'list'>\n"
          ]
        },
        {
          "data": {
            "text/html": [
              "<div>\n",
              "<style scoped>\n",
              "    .dataframe tbody tr th:only-of-type {\n",
              "        vertical-align: middle;\n",
              "    }\n",
              "\n",
              "    .dataframe tbody tr th {\n",
              "        vertical-align: top;\n",
              "    }\n",
              "\n",
              "    .dataframe thead th {\n",
              "        text-align: right;\n",
              "    }\n",
              "</style>\n",
              "<table border=\"1\" class=\"dataframe\">\n",
              "  <thead>\n",
              "    <tr style=\"text-align: right;\">\n",
              "      <th></th>\n",
              "      <th>image_names</th>\n",
              "      <th>class</th>\n",
              "      <th>actual</th>\n",
              "      <th>Match?</th>\n",
              "      <th>Confidence Score</th>\n",
              "    </tr>\n",
              "  </thead>\n",
              "  <tbody>\n",
              "    <tr>\n",
              "      <th>0</th>\n",
              "      <td>spicelabelbraille-scaled.jpg</td>\n",
              "      <td>Damaged</td>\n",
              "      <td>Nice</td>\n",
              "      <td>No</td>\n",
              "      <td>[[0.9952526, 0.004747362]]</td>\n",
              "    </tr>\n",
              "    <tr>\n",
              "      <th>1</th>\n",
              "      <td>20210620_191814.jpg</td>\n",
              "      <td>Nice</td>\n",
              "      <td>Nice</td>\n",
              "      <td>Yes</td>\n",
              "      <td>[[0.07627353, 0.9237265]]</td>\n",
              "    </tr>\n",
              "    <tr>\n",
              "      <th>2</th>\n",
              "      <td>20210620_191900.jpg</td>\n",
              "      <td>Nice</td>\n",
              "      <td>Nice</td>\n",
              "      <td>Yes</td>\n",
              "      <td>[[0.083424754, 0.9165752]]</td>\n",
              "    </tr>\n",
              "    <tr>\n",
              "      <th>3</th>\n",
              "      <td>20210620_191903.jpg</td>\n",
              "      <td>Nice</td>\n",
              "      <td>Nice</td>\n",
              "      <td>Yes</td>\n",
              "      <td>[[0.055430077, 0.9445699]]</td>\n",
              "    </tr>\n",
              "    <tr>\n",
              "      <th>4</th>\n",
              "      <td>20210620_191905.jpg</td>\n",
              "      <td>Nice</td>\n",
              "      <td>Nice</td>\n",
              "      <td>Yes</td>\n",
              "      <td>[[0.15569903, 0.844301]]</td>\n",
              "    </tr>\n",
              "    <tr>\n",
              "      <th>5</th>\n",
              "      <td>20210620_191908.jpg</td>\n",
              "      <td>Damaged</td>\n",
              "      <td>Nice</td>\n",
              "      <td>No</td>\n",
              "      <td>[[0.6130077, 0.38699228]]</td>\n",
              "    </tr>\n",
              "    <tr>\n",
              "      <th>6</th>\n",
              "      <td>20210620_191911.jpg</td>\n",
              "      <td>Damaged</td>\n",
              "      <td>Nice</td>\n",
              "      <td>No</td>\n",
              "      <td>[[0.21269946, 0.78730047]]</td>\n",
              "    </tr>\n",
              "    <tr>\n",
              "      <th>7</th>\n",
              "      <td>20210620_191919.jpg</td>\n",
              "      <td>Damaged</td>\n",
              "      <td>Damaged</td>\n",
              "      <td>Yes</td>\n",
              "      <td>[[0.8539064, 0.14609362]]</td>\n",
              "    </tr>\n",
              "    <tr>\n",
              "      <th>8</th>\n",
              "      <td>20210620_191929.jpg</td>\n",
              "      <td>Damaged</td>\n",
              "      <td>Damaged</td>\n",
              "      <td>Yes</td>\n",
              "      <td>[[0.7543827, 0.24561724]]</td>\n",
              "    </tr>\n",
              "    <tr>\n",
              "      <th>9</th>\n",
              "      <td>20210620_191952.jpg</td>\n",
              "      <td>Damaged</td>\n",
              "      <td>Damaged</td>\n",
              "      <td>Yes</td>\n",
              "      <td>[[0.49743605, 0.50256395]]</td>\n",
              "    </tr>\n",
              "    <tr>\n",
              "      <th>10</th>\n",
              "      <td>20210620_192006.jpg</td>\n",
              "      <td>Damaged</td>\n",
              "      <td>Damaged</td>\n",
              "      <td>Yes</td>\n",
              "      <td>[[0.4099271, 0.59007293]]</td>\n",
              "    </tr>\n",
              "    <tr>\n",
              "      <th>11</th>\n",
              "      <td>20210620_192016.jpg</td>\n",
              "      <td>Damaged</td>\n",
              "      <td>Damaged</td>\n",
              "      <td>Yes</td>\n",
              "      <td>[[0.6114163, 0.38858372]]</td>\n",
              "    </tr>\n",
              "  </tbody>\n",
              "</table>\n",
              "</div>"
            ],
            "text/plain": [
              "                     image_names    class  ... Match?            Confidence Score\n",
              "0   spicelabelbraille-scaled.jpg  Damaged  ...     No  [[0.9952526, 0.004747362]]\n",
              "1            20210620_191814.jpg     Nice  ...    Yes   [[0.07627353, 0.9237265]]\n",
              "2            20210620_191900.jpg     Nice  ...    Yes  [[0.083424754, 0.9165752]]\n",
              "3            20210620_191903.jpg     Nice  ...    Yes  [[0.055430077, 0.9445699]]\n",
              "4            20210620_191905.jpg     Nice  ...    Yes    [[0.15569903, 0.844301]]\n",
              "5            20210620_191908.jpg  Damaged  ...     No   [[0.6130077, 0.38699228]]\n",
              "6            20210620_191911.jpg  Damaged  ...     No  [[0.21269946, 0.78730047]]\n",
              "7            20210620_191919.jpg  Damaged  ...    Yes   [[0.8539064, 0.14609362]]\n",
              "8            20210620_191929.jpg  Damaged  ...    Yes   [[0.7543827, 0.24561724]]\n",
              "9            20210620_191952.jpg  Damaged  ...    Yes  [[0.49743605, 0.50256395]]\n",
              "10           20210620_192006.jpg  Damaged  ...    Yes   [[0.4099271, 0.59007293]]\n",
              "11           20210620_192016.jpg  Damaged  ...    Yes   [[0.6114163, 0.38858372]]\n",
              "\n",
              "[12 rows x 5 columns]"
            ]
          },
          "metadata": {
            "tags": []
          },
          "output_type": "display_data"
        },
        {
          "name": "stdout",
          "output_type": "stream",
          "text": [
            "Test_Set_Accuracy: 75.0%\n"
          ]
        }
      ],
      "source": [
        "# load images and store it in numpy array\n",
        "# empty list to store the images\n",
        "predictions=[]\n",
        "fulloutput=[]\n",
        "# iterating over each image\n",
        "#for i in range(100):\n",
        "for i in range(len(AllFiles)):\n",
        "    #count += 1\n",
        "    # loading the image using its name\n",
        "    img = image.load_img(AllFiles[i],target_size=(224,224))\n",
        "    img = np.asarray(img)\n",
        "    #plt.imshow(img)\n",
        "    img = np.expand_dims(img, axis=0)\n",
        "    #print (rsize.shape)\n",
        "    # saving each image in the list\n",
        "    #plt.show()\n",
        "    output=saved_model.predict(img)\n",
        "    if  output[0][1]<test_threshold:\n",
        "      answer='Damaged'\n",
        "    else:\n",
        "      answer='Nice'\n",
        "    #print(answer)\n",
        "    predictions.append(answer)\n",
        "    fulloutput.append(output)\n",
        "#print(predictions)\n",
        "# converting the list of images into array\n",
        "#NewX=np.array(NewX)\n",
        "#print(predictions)\n",
        "#Check to see if predictions match actual\n",
        "match_set=[]\n",
        "print(type(predictions))\n",
        "for i in range(len(predictions)):\n",
        "  if predictions[i]==actual_set['Actual'][i]:\n",
        "    match_set.append('Yes')\n",
        "  else:\n",
        "    match_set.append('No')\n",
        "#print(match_set)\n",
        "actual=actual_set['Actual'].tolist()\n",
        "#print(actual)\n",
        "test_set['class'] = predictions\n",
        "test_set['actual']=actual_set['Actual']\n",
        "test_set['Match?']=match_set\n",
        "test_set['Confidence Score']=fulloutput\n",
        "display(test_set)\n",
        "def condition(x):\n",
        "  return x =='Yes'\n",
        "# Count the number of matching elements\n",
        "Test_Set_Accuracy=str(sum(condition(x) for x in match_set)/len(match_set)*100)\n",
        "print('Test_Set_Accuracy: '+Test_Set_Accuracy+'%')"
      ]
    },
    {
      "cell_type": "markdown",
      "metadata": {
        "id": "qB9qPqzMPZaS"
      },
      "source": [
        "...and the lowest validation loss."
      ]
    },
    {
      "cell_type": "code",
      "execution_count": null,
      "metadata": {
        "colab": {
          "base_uri": "https://localhost:8080/"
        },
        "id": "JaC2XNhi5ShL",
        "outputId": "57e93999-e8a7-4ce6-b167-6af01dcc824b"
      },
      "outputs": [
        {
          "name": "stdout",
          "output_type": "stream",
          "text": [
            "[array([[0.9833124 , 0.01668759]], dtype=float32), array([[0.01377664, 0.9862234 ]], dtype=float32), array([[0.8889845, 0.1110155]], dtype=float32), array([[0.31757846, 0.6824215 ]], dtype=float32), array([[0.9843157 , 0.01568426]], dtype=float32), array([[9.9998081e-01, 1.9173902e-05]], dtype=float32), array([[0.9750871 , 0.02491291]], dtype=float32), array([[9.9959797e-01, 4.0210749e-04]], dtype=float32), array([[9.9976534e-01, 2.3470802e-04]], dtype=float32), array([[0.46555775, 0.53444225]], dtype=float32), array([[0.99817157, 0.00182844]], dtype=float32), array([[0.9801209 , 0.01987905]], dtype=float32)]\n"
          ]
        }
      ],
      "source": [
        "# load images and store it in numpy array\n",
        "# empty list to store the images\n",
        "predictions=[]\n",
        "fulloutput=[]\n",
        "# iterating over each image\n",
        "#for i in range(100):\n",
        "for i in range(len(AllFiles)):\n",
        "    #count += 1\n",
        "    # loading the image using its name\n",
        "    img = image.load_img(AllFiles[i],target_size=(224,224))\n",
        "    img = np.asarray(img)\n",
        "    #plt.imshow(img)\n",
        "    img = np.expand_dims(img, axis=0)\n",
        "    #print (rsize.shape)\n",
        "    # saving each image in the list\n",
        "    #plt.show()\n",
        "    output=saved_loss_model.predict(img)\n",
        "    if  output[0][1]<threshold_loss:\n",
        "      answer='Damaged'\n",
        "    else:\n",
        "      answer='Nice'\n",
        "    #print(answer)\n",
        "    predictions.append(answer)\n",
        "    fulloutput.append(output)\n",
        "#print(predictions)\n",
        "# converting the list of images into array\n",
        "#NewX=np.array(NewX)\n",
        "print(fulloutput)\n"
      ]
    },
    {
      "cell_type": "code",
      "execution_count": null,
      "metadata": {
        "colab": {
          "base_uri": "https://localhost:8080/"
        },
        "id": "lFK10EYY5ShO",
        "outputId": "6dc80cfa-90f3-458a-9265-28f0bf4d687c"
      },
      "outputs": [
        {
          "name": "stdout",
          "output_type": "stream",
          "text": [
            "<class 'list'>\n",
            "['No', 'Yes', 'Yes', 'Yes', 'No', 'No', 'No', 'Yes', 'Yes', 'No', 'Yes', 'Yes']\n",
            "['Nice', 'Nice', 'Nice', 'Nice', 'Nice', 'Nice', 'Nice', 'Damaged', 'Damaged', 'Damaged', 'Damaged', 'Damaged']\n"
          ]
        }
      ],
      "source": [
        "#Check to see if predictions match actual\n",
        "match_set=[]\n",
        "print(type(predictions))\n",
        "for i in range(len(predictions)):\n",
        "  if predictions[i]==actual_set['Actual'][i]:\n",
        "    match_set.append('Yes')\n",
        "  else:\n",
        "    match_set.append('No')\n",
        "print(match_set)\n",
        "actual=actual_set['Actual'].tolist()\n",
        "print(actual)"
      ]
    },
    {
      "cell_type": "code",
      "execution_count": null,
      "metadata": {
        "colab": {
          "base_uri": "https://localhost:8080/",
          "height": 419
        },
        "id": "lmmLp9CR5ShP",
        "outputId": "d5bdcb22-2933-4313-d3ed-9524e1c680ca"
      },
      "outputs": [
        {
          "data": {
            "text/html": [
              "<div>\n",
              "<style scoped>\n",
              "    .dataframe tbody tr th:only-of-type {\n",
              "        vertical-align: middle;\n",
              "    }\n",
              "\n",
              "    .dataframe tbody tr th {\n",
              "        vertical-align: top;\n",
              "    }\n",
              "\n",
              "    .dataframe thead th {\n",
              "        text-align: right;\n",
              "    }\n",
              "</style>\n",
              "<table border=\"1\" class=\"dataframe\">\n",
              "  <thead>\n",
              "    <tr style=\"text-align: right;\">\n",
              "      <th></th>\n",
              "      <th>image_names</th>\n",
              "      <th>class</th>\n",
              "      <th>actual</th>\n",
              "      <th>Match?</th>\n",
              "      <th>Confidence Score</th>\n",
              "    </tr>\n",
              "  </thead>\n",
              "  <tbody>\n",
              "    <tr>\n",
              "      <th>0</th>\n",
              "      <td>spicelabelbraille-scaled.jpg</td>\n",
              "      <td>Damaged</td>\n",
              "      <td>Nice</td>\n",
              "      <td>No</td>\n",
              "      <td>[[0.9833124, 0.016687592]]</td>\n",
              "    </tr>\n",
              "    <tr>\n",
              "      <th>1</th>\n",
              "      <td>20210620_191814.jpg</td>\n",
              "      <td>Nice</td>\n",
              "      <td>Nice</td>\n",
              "      <td>Yes</td>\n",
              "      <td>[[0.013776642, 0.9862234]]</td>\n",
              "    </tr>\n",
              "    <tr>\n",
              "      <th>2</th>\n",
              "      <td>20210620_191900.jpg</td>\n",
              "      <td>Nice</td>\n",
              "      <td>Nice</td>\n",
              "      <td>Yes</td>\n",
              "      <td>[[0.8889845, 0.1110155]]</td>\n",
              "    </tr>\n",
              "    <tr>\n",
              "      <th>3</th>\n",
              "      <td>20210620_191903.jpg</td>\n",
              "      <td>Nice</td>\n",
              "      <td>Nice</td>\n",
              "      <td>Yes</td>\n",
              "      <td>[[0.31757846, 0.6824215]]</td>\n",
              "    </tr>\n",
              "    <tr>\n",
              "      <th>4</th>\n",
              "      <td>20210620_191905.jpg</td>\n",
              "      <td>Damaged</td>\n",
              "      <td>Nice</td>\n",
              "      <td>No</td>\n",
              "      <td>[[0.9843157, 0.015684262]]</td>\n",
              "    </tr>\n",
              "    <tr>\n",
              "      <th>5</th>\n",
              "      <td>20210620_191908.jpg</td>\n",
              "      <td>Damaged</td>\n",
              "      <td>Nice</td>\n",
              "      <td>No</td>\n",
              "      <td>[[0.9999808, 1.9173902e-05]]</td>\n",
              "    </tr>\n",
              "    <tr>\n",
              "      <th>6</th>\n",
              "      <td>20210620_191911.jpg</td>\n",
              "      <td>Damaged</td>\n",
              "      <td>Nice</td>\n",
              "      <td>No</td>\n",
              "      <td>[[0.9750871, 0.024912914]]</td>\n",
              "    </tr>\n",
              "    <tr>\n",
              "      <th>7</th>\n",
              "      <td>20210620_191919.jpg</td>\n",
              "      <td>Damaged</td>\n",
              "      <td>Damaged</td>\n",
              "      <td>Yes</td>\n",
              "      <td>[[0.99959797, 0.0004021075]]</td>\n",
              "    </tr>\n",
              "    <tr>\n",
              "      <th>8</th>\n",
              "      <td>20210620_191929.jpg</td>\n",
              "      <td>Damaged</td>\n",
              "      <td>Damaged</td>\n",
              "      <td>Yes</td>\n",
              "      <td>[[0.99976534, 0.00023470802]]</td>\n",
              "    </tr>\n",
              "    <tr>\n",
              "      <th>9</th>\n",
              "      <td>20210620_191952.jpg</td>\n",
              "      <td>Nice</td>\n",
              "      <td>Damaged</td>\n",
              "      <td>No</td>\n",
              "      <td>[[0.46555775, 0.53444225]]</td>\n",
              "    </tr>\n",
              "    <tr>\n",
              "      <th>10</th>\n",
              "      <td>20210620_192006.jpg</td>\n",
              "      <td>Damaged</td>\n",
              "      <td>Damaged</td>\n",
              "      <td>Yes</td>\n",
              "      <td>[[0.99817157, 0.0018284373]]</td>\n",
              "    </tr>\n",
              "    <tr>\n",
              "      <th>11</th>\n",
              "      <td>20210620_192016.jpg</td>\n",
              "      <td>Damaged</td>\n",
              "      <td>Damaged</td>\n",
              "      <td>Yes</td>\n",
              "      <td>[[0.9801209, 0.019879054]]</td>\n",
              "    </tr>\n",
              "  </tbody>\n",
              "</table>\n",
              "</div>"
            ],
            "text/plain": [
              "                     image_names    class  ... Match?               Confidence Score\n",
              "0   spicelabelbraille-scaled.jpg  Damaged  ...     No     [[0.9833124, 0.016687592]]\n",
              "1            20210620_191814.jpg     Nice  ...    Yes     [[0.013776642, 0.9862234]]\n",
              "2            20210620_191900.jpg     Nice  ...    Yes       [[0.8889845, 0.1110155]]\n",
              "3            20210620_191903.jpg     Nice  ...    Yes      [[0.31757846, 0.6824215]]\n",
              "4            20210620_191905.jpg  Damaged  ...     No     [[0.9843157, 0.015684262]]\n",
              "5            20210620_191908.jpg  Damaged  ...     No   [[0.9999808, 1.9173902e-05]]\n",
              "6            20210620_191911.jpg  Damaged  ...     No     [[0.9750871, 0.024912914]]\n",
              "7            20210620_191919.jpg  Damaged  ...    Yes   [[0.99959797, 0.0004021075]]\n",
              "8            20210620_191929.jpg  Damaged  ...    Yes  [[0.99976534, 0.00023470802]]\n",
              "9            20210620_191952.jpg     Nice  ...     No     [[0.46555775, 0.53444225]]\n",
              "10           20210620_192006.jpg  Damaged  ...    Yes   [[0.99817157, 0.0018284373]]\n",
              "11           20210620_192016.jpg  Damaged  ...    Yes     [[0.9801209, 0.019879054]]\n",
              "\n",
              "[12 rows x 5 columns]"
            ]
          },
          "metadata": {
            "tags": []
          },
          "output_type": "display_data"
        },
        {
          "name": "stdout",
          "output_type": "stream",
          "text": [
            "Test_Set_Accuracy: 58.333333333333336%\n"
          ]
        }
      ],
      "source": [
        "test_set['class'] = predictions\n",
        "test_set['actual']=actual_set['Actual']\n",
        "test_set['Match?']=match_set\n",
        "test_set['Confidence Score']=fulloutput\n",
        "display(test_set)\n",
        "def condition(x):\n",
        "  return x =='Yes'\n",
        "# Count the number of matching elements\n",
        "Test_Set_Accuracy=str(sum(condition(x) for x in match_set)/len(match_set)*100)\n",
        "print('Test_Set_Accuracy: '+Test_Set_Accuracy+'%')"
      ]
    },
    {
      "cell_type": "code",
      "execution_count": null,
      "metadata": {
        "colab": {
          "base_uri": "https://localhost:8080/"
        },
        "id": "Es8F8QHD5ShP",
        "outputId": "786da487-a9d1-43b7-d17f-8b7707e4c279"
      },
      "outputs": [
        {
          "name": "stdout",
          "output_type": "stream",
          "text": [
            "[[3 4]\n",
            " [1 4]]\n",
            "              precision    recall  f1-score   support\n",
            "\n",
            "        Nice       0.75      0.43      0.55         7\n",
            "     Damaged       0.50      0.80      0.62         5\n",
            "\n",
            "    accuracy                           0.58        12\n",
            "   macro avg       0.62      0.61      0.58        12\n",
            "weighted avg       0.65      0.58      0.57        12\n",
            "\n"
          ]
        }
      ],
      "source": [
        "# Importing the dependancies\n",
        "from sklearn import metrics\n",
        "# Printing the confusion matrix\n",
        "# The columns will show the instances predicted for each label,\n",
        "# and the rows will show the actual number of instances for each label.\n",
        "print(metrics.confusion_matrix(actual_set['Actual'], predictions, labels=[\"Nice\", \"Damaged\"]))\n",
        "# Printing the precision and recall, among other metrics\n",
        "print(metrics.classification_report(actual_set['Actual'], predictions, labels=[\"Nice\", \"Damaged\"]))"
      ]
    },
    {
      "cell_type": "code",
      "execution_count": null,
      "metadata": {
        "id": "L6Ec3iy65ShQ"
      },
      "outputs": [],
      "source": [
        "test_set.to_csv(base+'Best_loss_McCormick_output_results.csv',index=False)\n"
      ]
    },
    {
      "cell_type": "code",
      "execution_count": null,
      "metadata": {
        "colab": {
          "base_uri": "https://localhost:8080/"
        },
        "id": "SlFlyf5JPZaT",
        "outputId": "cad3aa55-3025-443b-a32e-8c8b3be91a31"
      },
      "outputs": [
        {
          "name": "stdout",
          "output_type": "stream",
          "text": [
            "Accuracy: 66.66666666666666 %\n",
            "Index of Maximum Accuracy: 1\n",
            "Threshold of Maximum Accuracy: 0.009980832747650577\n"
          ]
        }
      ],
      "source": [
        "saved_predictions=[]\n",
        "current_prediction=[]\n",
        "threshold_predictions=[]\n",
        "accuracies=[]\n",
        "selected_elements=[]\n",
        "indices=[]\n",
        "length=100\n",
        "for i in range(len(fulloutput)):\n",
        "    current_prediction=np.array(fulloutput)[i][0][1]\n",
        "    saved_predictions.append(current_prediction)\n",
        "#indices=[i for i, e in enumerate(match_set) if e == 'Yes']\n",
        "#for index in indices:\n",
        "    #selected_elements.append(saved_predictions[index])\n",
        "#print(selected_elements)\n",
        "#threshold_predictions=np.linspace(min(selected_elements),max(selected_elements),length)\n",
        "threshold_predictions=np.linspace(min(saved_predictions),max(saved_predictions),length)\n",
        "match_set1=[]\n",
        "for j in range(length):\n",
        "    for i in range(len(saved_predictions)):\n",
        "        if  saved_predictions[i]<threshold_predictions[j]:\n",
        "            answer='Damaged'\n",
        "        else:\n",
        "            answer='Nice'\n",
        "        if answer==actual_set['Actual'][i]:\n",
        "             match_set1.append('Yes')\n",
        "        else:\n",
        "            match_set1.append('No')\n",
        "    Test_Set_Accuracy=str(sum(condition(x) for x in match_set1)/len(match_set1)*100)\n",
        "    accuracies.append(Test_Set_Accuracy)\n",
        "#print(accuracies)\n",
        "print('Accuracy: '+str(max(accuracies))+' %')\n",
        "print('Index of Maximum Accuracy: '+str(accuracies.index(max(accuracies))))\n",
        "test_threshold=threshold_predictions[accuracies.index(max(accuracies))]\n",
        "print('Threshold of Maximum Accuracy: '+str(test_threshold))\n",
        "\n",
        "#print(len(saved_predictions))\n",
        "#print(saved_predictions)\n",
        "#print(min(saved_predictions))\n",
        "#print(max(saved_predictions))\n",
        "\n",
        "\n",
        "#print(np.linspace(min(saved_predictions),max(saved_predictions),100))"
      ]
    },
    {
      "cell_type": "code",
      "execution_count": null,
      "metadata": {
        "colab": {
          "base_uri": "https://localhost:8080/",
          "height": 436
        },
        "id": "iX9AoWs1PZaU",
        "outputId": "1e8e6ca3-7ed4-499d-eba4-0082fa557ac0"
      },
      "outputs": [
        {
          "name": "stdout",
          "output_type": "stream",
          "text": [
            "<class 'list'>\n"
          ]
        },
        {
          "data": {
            "text/html": [
              "<div>\n",
              "<style scoped>\n",
              "    .dataframe tbody tr th:only-of-type {\n",
              "        vertical-align: middle;\n",
              "    }\n",
              "\n",
              "    .dataframe tbody tr th {\n",
              "        vertical-align: top;\n",
              "    }\n",
              "\n",
              "    .dataframe thead th {\n",
              "        text-align: right;\n",
              "    }\n",
              "</style>\n",
              "<table border=\"1\" class=\"dataframe\">\n",
              "  <thead>\n",
              "    <tr style=\"text-align: right;\">\n",
              "      <th></th>\n",
              "      <th>image_names</th>\n",
              "      <th>class</th>\n",
              "      <th>actual</th>\n",
              "      <th>Match?</th>\n",
              "      <th>Confidence Score</th>\n",
              "    </tr>\n",
              "  </thead>\n",
              "  <tbody>\n",
              "    <tr>\n",
              "      <th>0</th>\n",
              "      <td>spicelabelbraille-scaled.jpg</td>\n",
              "      <td>Damaged</td>\n",
              "      <td>Nice</td>\n",
              "      <td>No</td>\n",
              "      <td>[[0.9952526, 0.004747362]]</td>\n",
              "    </tr>\n",
              "    <tr>\n",
              "      <th>1</th>\n",
              "      <td>20210620_191814.jpg</td>\n",
              "      <td>Nice</td>\n",
              "      <td>Nice</td>\n",
              "      <td>Yes</td>\n",
              "      <td>[[0.07627353, 0.9237265]]</td>\n",
              "    </tr>\n",
              "    <tr>\n",
              "      <th>2</th>\n",
              "      <td>20210620_191900.jpg</td>\n",
              "      <td>Nice</td>\n",
              "      <td>Nice</td>\n",
              "      <td>Yes</td>\n",
              "      <td>[[0.083424754, 0.9165752]]</td>\n",
              "    </tr>\n",
              "    <tr>\n",
              "      <th>3</th>\n",
              "      <td>20210620_191903.jpg</td>\n",
              "      <td>Nice</td>\n",
              "      <td>Nice</td>\n",
              "      <td>Yes</td>\n",
              "      <td>[[0.055430077, 0.9445699]]</td>\n",
              "    </tr>\n",
              "    <tr>\n",
              "      <th>4</th>\n",
              "      <td>20210620_191905.jpg</td>\n",
              "      <td>Nice</td>\n",
              "      <td>Nice</td>\n",
              "      <td>Yes</td>\n",
              "      <td>[[0.15569903, 0.844301]]</td>\n",
              "    </tr>\n",
              "    <tr>\n",
              "      <th>5</th>\n",
              "      <td>20210620_191908.jpg</td>\n",
              "      <td>Nice</td>\n",
              "      <td>Nice</td>\n",
              "      <td>Yes</td>\n",
              "      <td>[[0.6130077, 0.38699228]]</td>\n",
              "    </tr>\n",
              "    <tr>\n",
              "      <th>6</th>\n",
              "      <td>20210620_191911.jpg</td>\n",
              "      <td>Nice</td>\n",
              "      <td>Nice</td>\n",
              "      <td>Yes</td>\n",
              "      <td>[[0.21269946, 0.78730047]]</td>\n",
              "    </tr>\n",
              "    <tr>\n",
              "      <th>7</th>\n",
              "      <td>20210620_191919.jpg</td>\n",
              "      <td>Nice</td>\n",
              "      <td>Damaged</td>\n",
              "      <td>No</td>\n",
              "      <td>[[0.8539064, 0.14609362]]</td>\n",
              "    </tr>\n",
              "    <tr>\n",
              "      <th>8</th>\n",
              "      <td>20210620_191929.jpg</td>\n",
              "      <td>Nice</td>\n",
              "      <td>Damaged</td>\n",
              "      <td>No</td>\n",
              "      <td>[[0.7543827, 0.24561724]]</td>\n",
              "    </tr>\n",
              "    <tr>\n",
              "      <th>9</th>\n",
              "      <td>20210620_191952.jpg</td>\n",
              "      <td>Nice</td>\n",
              "      <td>Damaged</td>\n",
              "      <td>No</td>\n",
              "      <td>[[0.49743605, 0.50256395]]</td>\n",
              "    </tr>\n",
              "    <tr>\n",
              "      <th>10</th>\n",
              "      <td>20210620_192006.jpg</td>\n",
              "      <td>Nice</td>\n",
              "      <td>Damaged</td>\n",
              "      <td>No</td>\n",
              "      <td>[[0.4099271, 0.59007293]]</td>\n",
              "    </tr>\n",
              "    <tr>\n",
              "      <th>11</th>\n",
              "      <td>20210620_192016.jpg</td>\n",
              "      <td>Nice</td>\n",
              "      <td>Damaged</td>\n",
              "      <td>No</td>\n",
              "      <td>[[0.6114163, 0.38858372]]</td>\n",
              "    </tr>\n",
              "  </tbody>\n",
              "</table>\n",
              "</div>"
            ],
            "text/plain": [
              "                     image_names    class  ... Match?            Confidence Score\n",
              "0   spicelabelbraille-scaled.jpg  Damaged  ...     No  [[0.9952526, 0.004747362]]\n",
              "1            20210620_191814.jpg     Nice  ...    Yes   [[0.07627353, 0.9237265]]\n",
              "2            20210620_191900.jpg     Nice  ...    Yes  [[0.083424754, 0.9165752]]\n",
              "3            20210620_191903.jpg     Nice  ...    Yes  [[0.055430077, 0.9445699]]\n",
              "4            20210620_191905.jpg     Nice  ...    Yes    [[0.15569903, 0.844301]]\n",
              "5            20210620_191908.jpg     Nice  ...    Yes   [[0.6130077, 0.38699228]]\n",
              "6            20210620_191911.jpg     Nice  ...    Yes  [[0.21269946, 0.78730047]]\n",
              "7            20210620_191919.jpg     Nice  ...     No   [[0.8539064, 0.14609362]]\n",
              "8            20210620_191929.jpg     Nice  ...     No   [[0.7543827, 0.24561724]]\n",
              "9            20210620_191952.jpg     Nice  ...     No  [[0.49743605, 0.50256395]]\n",
              "10           20210620_192006.jpg     Nice  ...     No   [[0.4099271, 0.59007293]]\n",
              "11           20210620_192016.jpg     Nice  ...     No   [[0.6114163, 0.38858372]]\n",
              "\n",
              "[12 rows x 5 columns]"
            ]
          },
          "metadata": {
            "tags": []
          },
          "output_type": "display_data"
        },
        {
          "name": "stdout",
          "output_type": "stream",
          "text": [
            "Test_Set_Accuracy: 50.0%\n"
          ]
        }
      ],
      "source": [
        "# load images and store it in numpy array\n",
        "# empty list to store the images\n",
        "predictions=[]\n",
        "fulloutput=[]\n",
        "# iterating over each image\n",
        "#for i in range(100):\n",
        "for i in range(len(AllFiles)):\n",
        "    #count += 1\n",
        "    # loading the image using its name\n",
        "    img = image.load_img(AllFiles[i],target_size=(224,224))\n",
        "    img = np.asarray(img)\n",
        "    #plt.imshow(img)\n",
        "    img = np.expand_dims(img, axis=0)\n",
        "    #print (rsize.shape)\n",
        "    # saving each image in the list\n",
        "    #plt.show()\n",
        "    output=saved_model.predict(img)\n",
        "    if  output[0][1]<test_threshold:\n",
        "      answer='Damaged'\n",
        "    else:\n",
        "      answer='Nice'\n",
        "    #print(answer)\n",
        "    predictions.append(answer)\n",
        "    fulloutput.append(output)\n",
        "#print(predictions)\n",
        "# converting the list of images into array\n",
        "#NewX=np.array(NewX)\n",
        "#print(predictions)\n",
        "#Check to see if predictions match actual\n",
        "match_set=[]\n",
        "print(type(predictions))\n",
        "for i in range(len(predictions)):\n",
        "  if predictions[i]==actual_set['Actual'][i]:\n",
        "    match_set.append('Yes')\n",
        "  else:\n",
        "    match_set.append('No')\n",
        "#print(match_set)\n",
        "actual=actual_set['Actual'].tolist()\n",
        "#print(actual)\n",
        "test_set['class'] = predictions\n",
        "test_set['actual']=actual_set['Actual']\n",
        "test_set['Match?']=match_set\n",
        "test_set['Confidence Score']=fulloutput\n",
        "display(test_set)\n",
        "def condition(x):\n",
        "  return x =='Yes'\n",
        "# Count the number of matching elements\n",
        "Test_Set_Accuracy=str(sum(condition(x) for x in match_set)/len(match_set)*100)\n",
        "print('Test_Set_Accuracy: '+Test_Set_Accuracy+'%')"
      ]
    },
    {
      "cell_type": "markdown",
      "metadata": {
        "id": "XCPCwSvDPZaU"
      },
      "source": [
        "## Predictions on Video"
      ]
    },
    {
      "cell_type": "markdown",
      "metadata": {
        "id": "NBff4YdPPZaV"
      },
      "source": [
        "This section shows how the EarlyStopping model predicts from a video. The video can either be a saved video or be a live feed from your webcam. The window_size specifies how many frames should have their predictions averaged together to incorporate the temporal nature of a video. Basically, the window_size helps to increase the consistency of the predictions by taking the overall average as the actual average for a certain span of time."
      ]
    },
    {
      "cell_type": "code",
      "execution_count": null,
      "metadata": {
        "id": "2zXHRtdKSZw6"
      },
      "outputs": [],
      "source": [
        "#threshold=0.5"
      ]
    },
    {
      "cell_type": "code",
      "execution_count": null,
      "metadata": {
        "id": "uzeRQa5mvXm2"
      },
      "outputs": [],
      "source": [
        "#Define a function for attaching and saving predictions based off of a video. \n",
        "def predict_on_live_video(video_file_path, output_file_path, window_size):\n",
        "\n",
        "    # Initialize a Deque Object with a fixed size which will be used to implement moving/rolling average functionality.\n",
        "    predicted_labels_probabilities_deque = deque(maxlen = window_size)\n",
        "    color=[]\n",
        "    # Reading the Video File using the VideoCapture Object\n",
        "    video_reader = cv2.VideoCapture(video_file_path)\n",
        "\n",
        "    # Getting the width and height of the video \n",
        "    original_video_width = int(video_reader.get(cv2.CAP_PROP_FRAME_WIDTH))\n",
        "    original_video_height = int(video_reader.get(cv2.CAP_PROP_FRAME_HEIGHT))\n",
        "\n",
        "    # Writing the Overlayed Video Files Using the VideoWriter Object\n",
        "    video_writer = cv2.VideoWriter(output_file_path, cv2.VideoWriter_fourcc('M', 'P', '4', 'V'), 24, (original_video_width, original_video_height))\n",
        "\n",
        "    while True: \n",
        "        # Reading The Frame\n",
        "        status, frame = video_reader.read() \n",
        "\n",
        "        if not status:\n",
        "            break\n",
        "\n",
        "        # Resize the Frame to fixed Dimensions\n",
        "        resized_frame = cv2.resize(frame, (image_height, image_width))\n",
        "        \n",
        "        # Normalize the resized frame by dividing it with 255 so that each pixel value then lies between 0 and 1\n",
        "        normalized_frame = resized_frame / 255\n",
        "\n",
        "        # Passing the Image Normalized Frame to the model and receiving Predicted Probabilities.\n",
        "        predicted_labels_probabilities = model.predict(np.expand_dims(normalized_frame, axis = 0))\n",
        "    \n",
        "        # Appending predicted label probabilities to the deque object\n",
        "        predicted_labels_probabilities_deque.append(predicted_labels_probabilities)\n",
        "\n",
        "        # Assuring that the Deque is completely filled before starting the averaging process\n",
        "        if len(predicted_labels_probabilities_deque) == window_size:\n",
        "\n",
        "            # Converting Predicted Labels Probabilities Deque into Numpy array\n",
        "            predicted_labels_probabilities_np = np.array(predicted_labels_probabilities_deque)\n",
        "\n",
        "            # Calculating Average of Predicted Labels Probabilities Column Wise \n",
        "            predicted_labels_probabilities_averaged = predicted_labels_probabilities_np.mean(axis = 0)\n",
        "\n",
        "            # Accessing The Class Name using predicted label.\n",
        "            if  predicted_labels_probabilities_averaged[0][1]<threshold:\n",
        "              predicted_class_name = 'Damaged'\n",
        "            else:\n",
        "              predicted_class_name = 'Nice'\n",
        "          \n",
        "            # Overlaying Class Name Text Ontop of the Frame, changing color to reflect whether the bottle is defective or not\n",
        "            if predicted_class_name=='Damaged':\n",
        "              color=(0, 0, 255)\n",
        "            else:\n",
        "              color=(0,255,0)\n",
        "\n",
        "            cv2.putText(frame, predicted_class_name, (200, 200), cv2.FONT_HERSHEY_SIMPLEX, 3, color , 2)\n",
        "            cv2.putText(frame,  str(predicted_labels_probabilities), (200, 300), cv2.FONT_HERSHEY_SIMPLEX, 1, color , 2)\n",
        "        # Writing The Frame\n",
        "        video_writer.write(frame)\n",
        "\n",
        "\n",
        "        #cv2.imshow('Predicted Frames', frame)\n",
        "\n",
        "        #key_pressed = cv2.waitKey(1)\n",
        "\n",
        "        #if key_pressed == 27:\n",
        "          #break\n",
        "\n",
        "    cv2.destroyAllWindows()\n",
        "\n",
        "    \n",
        "    # Closing the VideoCapture and VideoWriter objects and releasing all resources held by them. \n",
        "    video_reader.release()\n",
        "    video_writer.release()"
      ]
    },
    {
      "cell_type": "code",
      "execution_count": null,
      "metadata": {
        "id": "NUjA8c4VpLZv"
      },
      "outputs": [],
      "source": [
        "#Specify parameters for the predict_on_live_video function and display the results below.\n",
        "image_height, image_width = 224, 224\n",
        "max_images_per_class = 8000\n",
        "\n",
        "output_directory=base+'ClassifiedVideo'\n",
        "video_title='Defect_Video'\n",
        "window_size=25\n",
        "#Set input_video_file_path to 0 to use webcam\n",
        "input_video_file_path=base+'McCormickVideo/IMG_8495.MOV'\n",
        "#input_video_file_path=0\n",
        "output_video_file_path = f'{output_directory}\\\\{video_title}{window_size}.mp4'\n",
        "print(output_video_file_path)\n",
        "predict_on_live_video(input_video_file_path, output_video_file_path, window_size)\n",
        "cool_video=VideoFileClip(output_video_file_path)\n",
        "ipython_display(cool_video, width=700)\n"
      ]
    },
    {
      "cell_type": "code",
      "execution_count": null,
      "metadata": {
        "id": "5rBLjxsTPZac"
      },
      "outputs": [],
      "source": []
    }
  ],
  "metadata": {
    "accelerator": "GPU",
    "colab": {
      "collapsed_sections": [],
      "include_colab_link": true,
      "name": "SoftwareCarpentryModelTraining.ipynb",
      "provenance": []
    },
    "interpreter": {
      "hash": "315dabce60f978ddbb24b863be050bd30050cf9cfdfbfd1f7723bc7daccfa93c"
    },
    "kernelspec": {
      "display_name": "Python 3.8.8 64-bit ('base': conda)",
      "name": "python3"
    },
    "language_info": {
      "codemirror_mode": {
        "name": "ipython",
        "version": 3
      },
      "file_extension": ".py",
      "mimetype": "text/x-python",
      "name": "python",
      "nbconvert_exporter": "python",
      "pygments_lexer": "ipython3",
      "version": "3.8.8"
    }
  },
  "nbformat": 4,
  "nbformat_minor": 0
}
